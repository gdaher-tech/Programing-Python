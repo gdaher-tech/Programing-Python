{
 "cells": [
  {
   "metadata": {},
   "cell_type": "markdown",
   "source": [
    "#  Sistema de Coordenadas Polares com Python\n",
    "\n",
    "Este documento apresenta a definição do sistema de coordenadas polares e mostra, por meio de exemplos em Python, como representar pontos e curvas nesse sistema.\n"
   ],
   "id": "883b644d2d5d158d"
  },
  {
   "metadata": {},
   "cell_type": "markdown",
   "source": "- Abaixo está um exemplo simples e visual em Python que mostra a aparência básica de um sistema de coordenadas polares com os eixos circulares, linhas angulares e um ponto de exemplo",
   "id": "dc8c150d687b6bf0"
  },
  {
   "metadata": {},
   "cell_type": "code",
   "outputs": [],
   "execution_count": null,
   "source": [
    "# Definir ponto em coordenadas polares\n",
    "r = 4\n",
    "theta_deg = 60\n",
    "theta_rad = np.deg2rad(theta_deg)\n",
    "\n",
    "# Criar figura e eixo polar\n",
    "plt.figure(figsize=(6,6))\n",
    "ax = plt.subplot(111, polar=True)\n",
    "\n",
    "# Plotar ponto\n",
    "ax.plot(theta_rad, r, 'ro', label=f'Ponto (r={r}, θ={theta_deg}°)')\n",
    "\n",
    "# Configurar aparência do sistema polar\n",
    "ax.set_rmax(5)  # Raio máximo\n",
    "ax.set_rticks([1, 2, 3, 4, 5])  # Círculos concêntricos\n",
    "ax.set_theta_zero_location(\"E\")  # 0° na direita\n",
    "ax.set_theta_direction(-1)  # Sentido anti-horário\n",
    "\n",
    "# Título e legenda\n",
    "ax.set_title(\"Sistema de Coordenadas Polares\", va='bottom')\n",
    "ax.legend(loc='upper right')\n",
    "\n",
    "plt.show()"
   ],
   "id": "191cf41d9f606836"
  }
 ],
 "metadata": {
  "kernelspec": {
   "display_name": "Python 3",
   "language": "python",
   "name": "python3"
  },
  "language_info": {
   "codemirror_mode": {
    "name": "ipython",
    "version": 2
   },
   "file_extension": ".py",
   "mimetype": "text/x-python",
   "name": "python",
   "nbconvert_exporter": "python",
   "pygments_lexer": "ipython2",
   "version": "2.7.6"
  }
 },
 "nbformat": 4,
 "nbformat_minor": 5
}
