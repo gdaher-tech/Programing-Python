{
 "cells": [
  {
   "metadata": {},
   "cell_type": "markdown",
   "source": [
    "## - 1. Receber uma instrução binária de 32 bits como entrada.\n",
    "## - 2. Extrair os campos principais (opcode, rd, rs1, rs2, funct3, funct7, immediate).\n",
    "## - 3. Identificar o formato da instrução base no opcode (R-Type e I-Type).\n",
    "## - 4. Decodificar os campos e exibir os resultados.\n",
    "\n",
    "\n",
    "## Alunos:\n",
    "- Gustavo Daher (25101039)\n",
    "- João (2311236)\n",
    "- Rafael (2221150)\n",
    "- Larissa (2311050)\n"
   ],
   "id": "db4386e23ea97e87"
  },
  {
   "metadata": {},
   "cell_type": "markdown",
   "source": "# 1 - Converter binário para inteiro",
   "id": "ff5c92551c7da9bf"
  },
  {
   "metadata": {
    "ExecuteTime": {
     "end_time": "2025-04-07T12:19:45.383845Z",
     "start_time": "2025-04-07T12:19:45.379987Z"
    }
   },
   "cell_type": "code",
   "source": [
    "def converter(b):\n",
    "    return int(b, 2) ## O 2 indica a base númerica que esta sendo convertida"
   ],
   "id": "6d60c62e8bce7a44",
   "outputs": [],
   "execution_count": 11
  },
  {
   "metadata": {},
   "cell_type": "markdown",
   "source": "# 2 - Dicionário que mapeia o tipo de opcode",
   "id": "f4ba7be9a7c836f7"
  },
  {
   "metadata": {
    "ExecuteTime": {
     "end_time": "2025-04-07T12:19:46.969886Z",
     "start_time": "2025-04-07T12:19:46.966991Z"
    }
   },
   "cell_type": "code",
   "source": [
    "opcode_mapping = {\n",
    "    '0110011': 'R-type',   # Operações aritméticas lógicas com registradores\n",
    "    '0010011': 'I-type',   # Operações aritméticas com imediato\n",
    "    '0000011': 'I-type',   # Load\n",
    "    '1100111': 'I-type',   # JALR\n",
    "}"
   ],
   "id": "f8f5908e617a3c46",
   "outputs": [],
   "execution_count": 12
  },
  {
   "metadata": {},
   "cell_type": "markdown",
   "source": "# 3 - Dicionário que mapeia operação R-type e I-type",
   "id": "56950a9772bde764"
  },
  {
   "metadata": {
    "ExecuteTime": {
     "end_time": "2025-04-07T12:19:48.869472Z",
     "start_time": "2025-04-07T12:19:48.864746Z"
    }
   },
   "cell_type": "code",
   "source": [
    "funct_map_r = {\n",
    "    # Mapeamento de funct7 + funct3 para operações R-type\n",
    "    ('0000000', '000'): 'add',  #Soma\n",
    "    ('0100000', '00'): 'sub',   #Subtracao\n",
    "    ('0000000', '001'): 'sll',  #Shift lógico a esquerda\n",
    "    ('0000000', '010'): 'slt',  #Set if less than (signed)\n",
    "    ('0000000', '011'): 'sltu', #Set if less than (unsigned)\n",
    "    ('0000000', '100'): 'xor',  #XOR bit a bit\n",
    "    ('0000000', '101'): 'srl',  #Shift lógico a direita\n",
    "    ('0100000', '101'): 'sra',  #Shift aritmético\n",
    "    ('0000000', '110'): 'or',   #Or bit a bit\n",
    "    ('0000000', '111'): 'and'   #And bit a bit\n",
    "}\n",
    "\n",
    "funct_mapping_i = {\n",
    "    '000': 'addi',        # Soma com imediato: rd = rs1 + imediato\n",
    "    '010': 'slti',        # Set if less than (signed): rd = (rs1 < imediato) ? 1 : 0\n",
    "    '011': 'sltiu',       # Set if less than (unsigned): rd = (rs1 < imediato) ? 1 : 0 (sem sinal)\n",
    "    '100': 'xori',        # XOR com imediato: rd = rs1 ^ imediato\n",
    "    '110': 'ori',         # OR com imediato: rd = rs1 | imediato\n",
    "    '111': 'andi',        # AND com imediato: rd = rs1 & imediato\n",
    "    '001': 'slli',        # Shift lógico à esquerda: rd = rs1 << shamt (shamt = parte baixa do imediato)\n",
    "    '101': 'srli/srai',   # Shift à direita (lógico ou aritmético): depende dos bits altos do imediato\n",
    "}\n"
   ],
   "id": "83c65b758b20def3",
   "outputs": [],
   "execution_count": 13
  },
  {
   "metadata": {},
   "cell_type": "markdown",
   "source": "# 4 - Recebe o número binário do usuário",
   "id": "1e7b2340ab1f6359"
  },
  {
   "metadata": {
    "ExecuteTime": {
     "end_time": "2025-04-07T12:20:12.764588Z",
     "start_time": "2025-04-07T12:19:52.414189Z"
    }
   },
   "cell_type": "code",
   "source": "bin_num = input(\"Digite o número binário: \").replace(\" \", \"\") ## Recebe o número do usuário e retira os espaços extras",
   "id": "9347c486b262da70",
   "outputs": [],
   "execution_count": 14
  },
  {
   "metadata": {},
   "cell_type": "markdown",
   "source": "# 5 - validação de entrada",
   "id": "360d0c9d16edbd56"
  },
  {
   "metadata": {
    "ExecuteTime": {
     "end_time": "2025-04-07T12:20:46.065901Z",
     "start_time": "2025-04-07T12:20:46.058834Z"
    }
   },
   "cell_type": "code",
   "source": [
    "if len(bin_num) != 32 or any(c not in '01' for c in bin_num):\n",
    "    print(\"Entrada inválida. Digite exatamente 32 bits binários\")\n",
    "    exit()"
   ],
   "id": "32d29658dc581537",
   "outputs": [],
   "execution_count": 15
  },
  {
   "metadata": {},
   "cell_type": "markdown",
   "source": "# 6 - Extração de Opcode",
   "id": "b3fd7abc7681494a"
  },
  {
   "metadata": {
    "ExecuteTime": {
     "end_time": "2025-04-07T12:20:48.798452Z",
     "start_time": "2025-04-07T12:20:48.795559Z"
    }
   },
   "cell_type": "code",
   "source": [
    "opcode = bin_num[25:32]\n",
    "instr_type = opcode_mapping.get(opcode, 'Desconhecido') #Busca o tipo de instrução no dicionário opcode_mapping, usando o valor de opcode como chave."
   ],
   "id": "c4d60b381f5718f3",
   "outputs": [],
   "execution_count": 16
  },
  {
   "metadata": {},
   "cell_type": "markdown",
   "source": "# 7 - Processamento conforme tipo",
   "id": "3ab6b32ab78872d1"
  },
  {
   "metadata": {
    "ExecuteTime": {
     "end_time": "2025-04-07T12:20:51.153830Z",
     "start_time": "2025-04-07T12:20:51.148297Z"
    }
   },
   "cell_type": "code",
   "source": [
    "if instr_type == 'R-type':\n",
    "    funct7 = bin_num[0:7]\n",
    "    rs2    = bin_num[7:12]\n",
    "    rs1    = bin_num[12:17]\n",
    "    funct3 = bin_num[17:20]\n",
    "    rd     = bin_num[20:25]\n",
    "    operation = funct_map_r.get((funct7, funct3), 'Desconhecida')\n",
    "\n",
    "    print(\"\\n--- Campos R-type ---\")\n",
    "    print(f\"funct7  : {funct7}\")\n",
    "    print(f\"rs2     : x{converter(rs2)}\")\n",
    "    print(f\"rs1     : x{converter(rs1)}\")\n",
    "    print(f\"funct3  : {funct3}\")\n",
    "    print(f\"rd      : x{converter(rd)}\")\n",
    "    print(f\"Operação: {operation}\")\n",
    "\n",
    "elif instr_type == 'I-type':\n",
    "    imm    = bin_num[0:12]\n",
    "    rs1    = bin_num[12:17]\n",
    "    funct3 = bin_num[17:20]\n",
    "    rd     = bin_num[20:25]\n",
    "    operation = funct_mapping_i.get(funct3, 'Desconhecida')\n",
    "\n",
    "    print(\"\\n--- Campos I-type ---\")\n",
    "    print(f\"imediato: {imm} ({int(imm, 2)})\")\n",
    "    print(f\"rs1     : x{converter(rs1)}\")\n",
    "    print(f\"funct3  : {funct3}\")\n",
    "    print(f\"rd      : x{converter(rd)}\")\n",
    "    print(f\"Operação: {operation}\")\n",
    "\n",
    "else:\n",
    "    print(\"\\nEsse tipo de instrução ainda não está implementado.\")\n"
   ],
   "id": "ef4bbf60ab52a8d5",
   "outputs": [
    {
     "name": "stdout",
     "output_type": "stream",
     "text": [
      "\n",
      "--- Campos I-type ---\n",
      "imediato: 000000000101 (5)\n",
      "rs1     : x1\n",
      "funct3  : 000\n",
      "rd      : x3\n",
      "Operação: addi\n"
     ]
    }
   ],
   "execution_count": 17
  }
 ],
 "metadata": {
  "kernelspec": {
   "display_name": "Python 3",
   "language": "python",
   "name": "python3"
  },
  "language_info": {
   "codemirror_mode": {
    "name": "ipython",
    "version": 2
   },
   "file_extension": ".py",
   "mimetype": "text/x-python",
   "name": "python",
   "nbconvert_exporter": "python",
   "pygments_lexer": "ipython2",
   "version": "2.7.6"
  }
 },
 "nbformat": 4,
 "nbformat_minor": 5
}
