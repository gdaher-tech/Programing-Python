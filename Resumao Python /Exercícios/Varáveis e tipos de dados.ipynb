{
 "cells": [
  {
   "metadata": {},
   "cell_type": "markdown",
   "source": [
    "1. Variáveis e Tipos de Dados\n",
    "- Crie variáveis para nome (string), idade (int), altura (float) e exiba tudo em uma frase formatada.\n",
    "- Converta uma string \"30\" para número inteiro e some com outro número.\n",
    "- Solicite o nome e idade do usuário e exiba a mensagem: \"Fulano tem 25 anos\".\n",
    "- Armazene dois números decimais, some e exiba o resultado com 2 casas decimais.\n",
    "- Crie uma variável booleana tem_carteira e imprima mensagens diferentes dependendo do valor."
   ],
   "id": "fd014edb13c6fb9"
  },
  {
   "metadata": {},
   "cell_type": "markdown",
   "source": "## - Crie variáveis para nome (string), idade (int), altura (float) e exiba tudo em uma frase formatada.\n",
   "id": "d356640afcb909f8"
  },
  {
   "metadata": {
    "ExecuteTime": {
     "end_time": "2025-03-31T11:00:09.747493Z",
     "start_time": "2025-03-31T11:00:09.741743Z"
    }
   },
   "cell_type": "code",
   "source": [
    "nome = str('Gustavo')\n",
    "idade = int(21)\n",
    "altura = float(1.80)\n",
    "\n",
    "frase_formatada = 'Olá, meu nome é {}, tenho {} anos e {} de altura'.format(nome, idade, altura)\n",
    "\n",
    "print(frase_formatada)"
   ],
   "id": "bc5856794cfb2ab5",
   "outputs": [
    {
     "name": "stdout",
     "output_type": "stream",
     "text": [
      "Olá, meu nome é Gustavo, tenho 21 anos e 1.8 de altura\n"
     ]
    }
   ],
   "execution_count": 1
  },
  {
   "metadata": {
    "ExecuteTime": {
     "end_time": "2025-03-31T11:02:15.346635Z",
     "start_time": "2025-03-31T11:02:15.338982Z"
    }
   },
   "cell_type": "code",
   "source": [
    "nome2 = str('Anna Julia')\n",
    "idade2 = int(21)\n",
    "altura2 = float(1.61)\n",
    "\n",
    "frase_formatada2 = 'Olá meu nome é {}, tenho {} anos e {} de altura'.format(nome2, idade2, altura2)\n",
    "\n",
    "print(frase_formatada2)"
   ],
   "id": "f812b250e506cd21",
   "outputs": [
    {
     "name": "stdout",
     "output_type": "stream",
     "text": [
      "Olá meu nome é Anna Julia, tenho 21 anos e 1.61 de altura\n"
     ]
    }
   ],
   "execution_count": 2
  },
  {
   "metadata": {
    "ExecuteTime": {
     "end_time": "2025-03-31T11:04:07.595448Z",
     "start_time": "2025-03-31T11:04:07.589806Z"
    }
   },
   "cell_type": "code",
   "source": [
    "nome3 = str('Rafael')\n",
    "idade3 = int(19)\n",
    "altura3 = float(1.83)\n",
    "\n",
    "frase_formatada3 = 'Olá, meu nome é {}, tenho {} anos e {} de altura'.format(nome3, idade3, altura3)\n",
    "\n",
    "print(frase_formatada3)"
   ],
   "id": "e3e27938f1e3a732",
   "outputs": [
    {
     "name": "stdout",
     "output_type": "stream",
     "text": [
      "Olá, meu nome é Rafael, tenho 19 anos e 1.83 de altura\n"
     ]
    }
   ],
   "execution_count": 3
  },
  {
   "metadata": {},
   "cell_type": "markdown",
   "source": "## - Converta uma string \"30\" para número inteiro e some com outro número.\n",
   "id": "ab9833f270ea8453"
  },
  {
   "metadata": {
    "ExecuteTime": {
     "end_time": "2025-03-31T11:06:27.429868Z",
     "start_time": "2025-03-31T11:06:27.423768Z"
    }
   },
   "cell_type": "code",
   "source": [
    "numero = 30\n",
    "numero = int(numero)\n",
    "outro_numero = int(20)\n",
    "\n",
    "soma = numero + outro_numero\n",
    "\n",
    "print(soma)"
   ],
   "id": "559e08f61edef99",
   "outputs": [
    {
     "name": "stdout",
     "output_type": "stream",
     "text": [
      "50\n"
     ]
    }
   ],
   "execution_count": 4
  },
  {
   "metadata": {
    "ExecuteTime": {
     "end_time": "2025-03-31T11:07:33.266461Z",
     "start_time": "2025-03-31T11:07:33.260205Z"
    }
   },
   "cell_type": "code",
   "source": [
    "numero = 10\n",
    "numero = int(numero)\n",
    "outro_numero = int(10)\n",
    "\n",
    "soma = numero + outro_numero\n",
    "\n",
    "print(soma)"
   ],
   "id": "61f3521a95d77103",
   "outputs": [
    {
     "name": "stdout",
     "output_type": "stream",
     "text": [
      "20\n"
     ]
    }
   ],
   "execution_count": 5
  },
  {
   "metadata": {},
   "cell_type": "markdown",
   "source": "## - Solicite o nome e idade do usuário e exiba a mensagem: \"Fulano tem 25 anos\".\n",
   "id": "b912fdb3fc371598"
  },
  {
   "metadata": {
    "ExecuteTime": {
     "end_time": "2025-03-31T11:09:48.953045Z",
     "start_time": "2025-03-31T11:09:40.282776Z"
    }
   },
   "cell_type": "code",
   "source": [
    "nome = input('Digite seu nome: ')\n",
    "idade = int(input('Insira a sua idade: '))\n",
    "\n",
    "frase = '{} tem {} anos'.format(nome, idade)\n",
    "\n",
    "print(frase)"
   ],
   "id": "ac59aa52568d3da2",
   "outputs": [
    {
     "name": "stdout",
     "output_type": "stream",
     "text": [
      "Gustavo tem 21 anos\n"
     ]
    }
   ],
   "execution_count": 7
  },
  {
   "metadata": {},
   "cell_type": "markdown",
   "source": "## - Armazene dois números decimais, some e exiba o resultado com 2 casas decimais.\n",
   "id": "d96db0a8f6f81d61"
  },
  {
   "metadata": {
    "ExecuteTime": {
     "end_time": "2025-03-31T11:15:21.137290Z",
     "start_time": "2025-03-31T11:15:13.869080Z"
    }
   },
   "cell_type": "code",
   "source": [
    "num1 = float(input('insira um número decimal: '))\n",
    "num2 = float(input('Insira outro número decimal: '))\n",
    "\n",
    "soma  = num1 + num2\n",
    "\n",
    "print('A soma entre {} e {} é {}'.format(num1, num2, soma))"
   ],
   "id": "942fa52f27cdb8e3",
   "outputs": [
    {
     "name": "stdout",
     "output_type": "stream",
     "text": [
      "A soma entre 21.3 e 25.8 é 47.1\n"
     ]
    }
   ],
   "execution_count": 9
  },
  {
   "metadata": {},
   "cell_type": "markdown",
   "source": "## - Crie uma variável booleana tem_carteira e imprima mensagens diferentes dependendo do valor.\n",
   "id": "a7313c6b76389a7f"
  },
  {
   "metadata": {},
   "cell_type": "code",
   "outputs": [],
   "execution_count": null,
   "source": "bool(tem_carteira)\n",
   "id": "263ca1c7b5107573"
  }
 ],
 "metadata": {
  "kernelspec": {
   "display_name": "Python 3",
   "language": "python",
   "name": "python3"
  },
  "language_info": {
   "codemirror_mode": {
    "name": "ipython",
    "version": 2
   },
   "file_extension": ".py",
   "mimetype": "text/x-python",
   "name": "python",
   "nbconvert_exporter": "python",
   "pygments_lexer": "ipython2",
   "version": "2.7.6"
  }
 },
 "nbformat": 4,
 "nbformat_minor": 5
}
