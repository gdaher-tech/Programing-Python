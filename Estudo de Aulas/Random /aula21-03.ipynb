{
 "cells": [
  {
   "metadata": {},
   "cell_type": "markdown",
   "source": "## Usando Randon em Python\n",
   "id": "2a02ebf8dbf411da"
  },
  {
   "metadata": {
    "ExecuteTime": {
     "end_time": "2025-03-22T23:24:16.834758Z",
     "start_time": "2025-03-22T23:24:16.832301Z"
    }
   },
   "cell_type": "code",
   "source": [
    "import random\n",
    "from random import randint"
   ],
   "id": "f396b61112beff9c",
   "outputs": [],
   "execution_count": 28
  },
  {
   "metadata": {},
   "cell_type": "markdown",
   "source": "- Antes de ser usado o random deve ser importado para o seu programa",
   "id": "b3f4ec016662c9cc"
  },
  {
   "metadata": {},
   "cell_type": "markdown",
   "source": "### Gerando um número aleatório",
   "id": "9d40acf3a47891e1"
  },
  {
   "metadata": {
    "ExecuteTime": {
     "end_time": "2025-03-22T23:24:17.915345Z",
     "start_time": "2025-03-22T23:24:17.912055Z"
    }
   },
   "cell_type": "code",
   "source": "random.randint(1,10)",
   "id": "432e16bfc5795a7",
   "outputs": [
    {
     "data": {
      "text/plain": [
       "8"
      ]
     },
     "execution_count": 29,
     "metadata": {},
     "output_type": "execute_result"
    }
   ],
   "execution_count": 29
  },
  {
   "metadata": {},
   "cell_type": "markdown",
   "source": "- Float entre 0 e 1",
   "id": "9866f5cf858f3473"
  },
  {
   "metadata": {
    "ExecuteTime": {
     "end_time": "2025-03-22T23:24:19.584925Z",
     "start_time": "2025-03-22T23:24:19.580525Z"
    }
   },
   "cell_type": "code",
   "source": "random.random()",
   "id": "6c0f0a5c1ef3885c",
   "outputs": [
    {
     "data": {
      "text/plain": [
       "0.6525971029423439"
      ]
     },
     "execution_count": 30,
     "metadata": {},
     "output_type": "execute_result"
    }
   ],
   "execution_count": 30
  },
  {
   "metadata": {},
   "cell_type": "markdown",
   "source": "- Float entre dois valores\n",
   "id": "5a2ad37d02833398"
  },
  {
   "metadata": {
    "ExecuteTime": {
     "end_time": "2025-03-22T23:24:34.718119Z",
     "start_time": "2025-03-22T23:24:34.714778Z"
    }
   },
   "cell_type": "code",
   "source": "random.uniform(5.5, 9.5)",
   "id": "ce4309978f25addb",
   "outputs": [
    {
     "data": {
      "text/plain": [
       "6.830072484990517"
      ]
     },
     "execution_count": 31,
     "metadata": {},
     "output_type": "execute_result"
    }
   ],
   "execution_count": 31
  },
  {
   "metadata": {},
   "cell_type": "markdown",
   "source": "- Escolher um item aletaório de uma lista",
   "id": "b4cca57a62992293"
  },
  {
   "metadata": {
    "ExecuteTime": {
     "end_time": "2025-03-22T23:25:54.376817Z",
     "start_time": "2025-03-22T23:25:54.371892Z"
    }
   },
   "cell_type": "code",
   "source": "random.choice(['a','b','c'])",
   "id": "54fd2061ea7317c9",
   "outputs": [
    {
     "data": {
      "text/plain": [
       "'c'"
      ]
     },
     "execution_count": 34,
     "metadata": {},
     "output_type": "execute_result"
    }
   ],
   "execution_count": 34
  },
  {
   "metadata": {},
   "cell_type": "markdown",
   "source": "- O sistema está processando uma doação e é necessário definir para qual Centro de Distribuição a doação deve ir.",
   "id": "18aba9dc39dc4dce"
  },
  {
   "metadata": {
    "ExecuteTime": {
     "end_time": "2025-03-22T23:43:07.359523Z",
     "start_time": "2025-03-22T23:43:07.351626Z"
    }
   },
   "cell_type": "code",
   "source": "centros_de_distribuicao = ['Fortaleza','Salvador','Rio de Janeiro','São Paulo','Brasília']\n",
   "id": "a6f23f3498f8e5db",
   "outputs": [],
   "execution_count": 67
  },
  {
   "metadata": {},
   "cell_type": "markdown",
   "source": "- O computador pode escolher aleatoriamente um index",
   "id": "2fcf6eeede932676"
  },
  {
   "metadata": {
    "ExecuteTime": {
     "end_time": "2025-03-22T23:43:08.694642Z",
     "start_time": "2025-03-22T23:43:08.691705Z"
    }
   },
   "cell_type": "code",
   "source": [
    "    indice = random.randint(0, len(centros_de_distribuicao) -1)\n",
    "    print(indice)"
   ],
   "id": "25e1d53c47276168",
   "outputs": [
    {
     "name": "stdout",
     "output_type": "stream",
     "text": [
      "3\n"
     ]
    }
   ],
   "execution_count": 68
  },
  {
   "metadata": {
    "ExecuteTime": {
     "end_time": "2025-03-22T23:44:38.398840Z",
     "start_time": "2025-03-22T23:44:38.390122Z"
    }
   },
   "cell_type": "code",
   "source": [
    "if indice == 0:\n",
    "    print('Fortaleza')\n",
    "elif indice == 1:\n",
    "    print('Salvador')\n",
    "elif indice == 2:\n",
    "    print('Rio de Janeiro')\n",
    "elif indice == 3:\n",
    "    print('São Paulo')\n",
    "else:\n",
    "    print()"
   ],
   "id": "6694a245e8522d4d",
   "outputs": [
    {
     "name": "stdout",
     "output_type": "stream",
     "text": [
      "São Paulo\n"
     ]
    }
   ],
   "execution_count": 70
  }
 ],
 "metadata": {
  "kernelspec": {
   "display_name": "Python 3",
   "language": "python",
   "name": "python3"
  },
  "language_info": {
   "codemirror_mode": {
    "name": "ipython",
    "version": 2
   },
   "file_extension": ".py",
   "mimetype": "text/x-python",
   "name": "python",
   "nbconvert_exporter": "python",
   "pygments_lexer": "ipython2",
   "version": "2.7.6"
  }
 },
 "nbformat": 4,
 "nbformat_minor": 5
}
