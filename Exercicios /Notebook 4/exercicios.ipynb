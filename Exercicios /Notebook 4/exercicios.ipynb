{
 "cells": [
  {
   "metadata": {},
   "cell_type": "markdown",
   "source": [
    "# 🧪 Exercícios: Métodos de Lista (`append()`, `remove()`, `extend()`)\n",
    "\n",
    "##  Exercício 1 — Verificar e adicionar órgão\n",
    "Peça ao usuário um órgão. Se ele **não estiver** na lista, adicione com `.append()` e imprima a nova lista.\n",
    "\n",
    "---\n",
    "\n",
    "##  Exercício 2 — Remover órgão da lista\n",
    "Peça um órgão ao usuário. Se ele estiver na lista, **remova com `.remove()`**.\n",
    "Se não estiver, exiba uma mensagem de erro informando que o órgão não foi encontrado.\n",
    "\n",
    "---\n",
    "\n",
    "##  Exercício 3 — Adicionar múltiplos órgãos\n",
    "Peça ao usuário que digite **vários órgãos separados por vírgula**.\n",
    "Use `.split(\", \")` e depois `.extend()` para adicionar todos à lista de uma vez.\n",
    "\n",
    "---\n",
    "\n",
    "##  Exercício 4 — Corrigir duplicatas com `extend()`\n",
    "Peça ao usuário uma lista de órgãos (com `.split(\", \")`).\n",
    "Antes de adicionar à lista principal, verifique se cada órgão **já existe** na lista.\n",
    "Adicione **apenas os que ainda não estão presentes**.\n",
    "\n",
    "---\n",
    "\n",
    "##  Exercício 5 — Menu interativo\n",
    "Crie um menu com as opções:\n",
    "\n",
    "1. Ver lista\n",
    "2. Adicionar órgão\n",
    "3. Remover órgão\n",
    "4. Adicionar múltiplos órgãos (sem duplicar)\n",
    "5. Sair\n",
    "\n",
    "Use `while` e `input()` para interagir com o usuário até ele escolher sair.\n",
    "Implemente cada opção com os métodos de lista apropriados.\n",
    "\n",
    "---\n"
   ],
   "id": "8049218c2436fe85"
  },
  {
   "metadata": {},
   "cell_type": "markdown",
   "source": [
    "# 1\n",
    "Peça ao usuário um órgão. Se ele **não estiver** na lista, adicione com `.append()` e imprima a nova lista."
   ],
   "id": "748c669f51ad0a52"
  },
  {
   "metadata": {},
   "cell_type": "code",
   "source": [
    "lista_de_orgaos = [\n",
    "    \"Coração\",\n",
    "    \"Rins\",\n",
    "    \"Fígado\",\n",
    "    \"Pâncreas\",\n",
    "    \"Pulmões\",\n",
    "    \"Intestino\",\n",
    "    \"Córneas\",\n",
    "    \"Pele\",\n",
    "    \"Medula óssea\",\n",
    "    \"Válvulas cardíacas\",\n",
    "    \"Ossos\",\n",
    "    \"Tendões\"\n",
    "]\n"
   ],
   "id": "c777f93aaa40617c",
   "outputs": [],
   "execution_count": null
  },
  {
   "metadata": {},
   "cell_type": "code",
   "source": [
    "entrada_usuario = input(\"Digite um órgão: \")\n",
    "\n",
    "if entrada_usuario in lista_de_orgaos:\n",
    "    print(\"Este órgão ja esta na lista!\")\n",
    "else:\n",
    "    lista_de_orgaos.append(entrada_usuario)\n",
    "    print(f\"Órgão {entrada_usuario} adiconado a lista.\")\n",
    "\n",
    "print(f\"Lista Atual: {lista_de_orgaos}\")"
   ],
   "id": "c58a0cbec1b04ff8",
   "outputs": [],
   "execution_count": null
  },
  {
   "metadata": {},
   "cell_type": "markdown",
   "source": [
    "# 2\n",
    "Peça um órgão ao usuário. Se ele estiver na lista, **remova com `.remove()`**.\n",
    "Se não estiver, exiba uma mensagem de erro informando que o órgão não foi encontrado.\n"
   ],
   "id": "61b3b46f3c40de49"
  },
  {
   "metadata": {},
   "cell_type": "code",
   "source": [
    "entrada_usuario = input(\"Digite um órgão para ser removido da sua lista: \")\n",
    "\n",
    "if entrada_usuario in lista_de_orgaos:\n",
    "    lista_de_orgaos.remove(entrada_usuario)\n",
    "    print(f\"Órgão {entrada_usuario} removido da lista.\")\n",
    "else:\n",
    "    print(f\"O órgão {entrada_usuario} não esta na lista.\")\n",
    "\n",
    "print(f\"Lista Atual: {lista_de_orgaos}\")"
   ],
   "id": "2ab820ff605d15a7",
   "outputs": [],
   "execution_count": null
  },
  {
   "metadata": {},
   "cell_type": "markdown",
   "source": [
    "# 3\n",
    "Peça ao usuário que digite **vários órgãos separados por vírgula**.\n",
    "Use `.split(\", \")` e depois `.extend()` para adicionar todos à lista de uma vez.\n"
   ],
   "id": "af6880d538f46dd9"
  },
  {
   "metadata": {},
   "cell_type": "code",
   "source": [
    "entrada_usuario = input(\"Digite os órgãos utilizando vírgula (,) que deseja adicionar a lista: \")\n",
    "\n",
    "lista_de_orgaos.extend(entrada_usuario.split(\", \"))\n",
    "\n",
    "print(f\"Lista atual: {lista_de_orgaos}\")"
   ],
   "id": "74eec63df9b28f7c",
   "outputs": [],
   "execution_count": null
  },
  {
   "metadata": {},
   "cell_type": "markdown",
   "source": [
    "# 4\n",
    "Peça ao usuário uma lista de órgãos (com `.split(\", \")`).\n",
    "Antes de adicionar à lista principal, verifique se cada órgão **já existe** na lista.\n",
    "Adicione **apenas os que ainda não estão presentes**."
   ],
   "id": "55de249205222a44"
  },
  {
   "metadata": {},
   "cell_type": "code",
   "source": [
    "entrada_usuario = input(\"Insira uma lista de órgãos, usando vírgula para serpara cada um: \").split(\", \")\n",
    "\n",
    "tamanho_entrada = len(entrada_usuario)\n",
    "\n",
    "print(f\"Os órgãos que você digiou são: {entrada_usuario}\")\n",
    "\n",
    "for i in range(tamanho_entrada):\n",
    "    if entrada_usuario[i] in lista_de_orgaos:\n",
    "        print(f\"O órgão {i} já esta na lista\")\n",
    "    else:\n",
    "        lista_de_orgaos.append(entrada_usuario[i])\n",
    "\n",
    "\n",
    "print(f\"Lista Atual: {lista_de_orgaos}\")\n",
    "\n"
   ],
   "id": "e4c5de8244d30c52",
   "outputs": [],
   "execution_count": null
  },
  {
   "metadata": {},
   "cell_type": "markdown",
   "source": [
    "# 5\n",
    "Crie um menu com as opções:\n",
    "\n",
    "1. Ver lista\n",
    "2. Adicionar órgão\n",
    "3. Remover órgão\n",
    "4. Adicionar múltiplos órgãos (sem duplicar)\n",
    "5. Sair\n",
    "\n",
    "Use `while` e `input()` para interagir com o usuário até ele escolher sair.\n",
    "Implemente cada opção com os métodos de lista apropriados.\n"
   ],
   "id": "4911f464eb6b0502"
  },
  {
   "metadata": {
    "ExecuteTime": {
     "end_time": "2025-04-05T17:27:41.579828Z",
     "start_time": "2025-04-05T17:27:41.576366Z"
    }
   },
   "cell_type": "code",
   "source": "## Resolução no arquivo ex.py nesta mesma pasta",
   "id": "472032f56c2f8838",
   "outputs": [],
   "execution_count": 1
  }
 ],
 "metadata": {
  "kernelspec": {
   "display_name": "Python 3",
   "language": "python",
   "name": "python3"
  },
  "language_info": {
   "codemirror_mode": {
    "name": "ipython",
    "version": 2
   },
   "file_extension": ".py",
   "mimetype": "text/x-python",
   "name": "python",
   "nbconvert_exporter": "python",
   "pygments_lexer": "ipython2",
   "version": "2.7.6"
  }
 },
 "nbformat": 4,
 "nbformat_minor": 5
}
