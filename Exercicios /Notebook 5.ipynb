{
 "cells": [
  {
   "metadata": {},
   "cell_type": "markdown",
   "source": [
    "# 🧪 Exercícios — Métodos de Lista: `.index()`, `.pop()`, `.insert()`, `.copy()`\n",
    "\n",
    "##  Exercício 1 — Encontrar posição com `.index()`\n",
    "Dada a lista de órgãos, use o método `.index()` para encontrar a posição do órgão `\"Pâncreas\"` e imprima o índice encontrado.\n",
    "\n",
    "---\n",
    "\n",
    "##  Exercício 2 — Remover item com `.pop()`\n",
    "Remova o órgão `\"Coração\"` da lista utilizando `.index()` para localizar a posição e `.pop()` para remover.\n",
    "\n",
    "---\n",
    "\n",
    "##  Exercício 3 — Inserir em posição específica com `.insert()`\n",
    "Adicione o órgão `\"Coração\"` de volta à lista, na posição **0**, usando o método `.insert()`.\n",
    "\n",
    "---\n",
    "\n",
    "##  Exercício 4 — Diferença entre cópia e atribuição\n",
    "1. Crie uma lista `original = [\"A\", \"B\", \"C\"]`\n",
    "2. Faça `copia1 = original` e `copia2 = original.copy()`\n",
    "3. Modifique `copia1` e `copia2`\n",
    "4. Imprima todas as listas e observe as diferenças.\n",
    "\n",
    "---\n",
    "\n",
    "##  Exercício 5 — Criar lista personalizada de doador\n",
    "Dada a lista oficial de órgãos, crie uma cópia e **mantenha apenas** os órgãos que o doador \"Roberto\" deseja doar:\n",
    "> Roberto: `\"Rins\"`, `\"Fígado\"`, `\"Intestino\"`, `\"Medula Óssea\"`\n",
    "\n",
    "Utilize `.copy()`, `.index()` e `.pop()` para montar a nova lista.\n",
    "\n",
    "---\n",
    "\n",
    "Se quiser as soluções depois, posso te entregar uma a uma conforme você for fazendo. Só pedir!\n"
   ],
   "id": "2e981ae40837fda1"
  },
  {
   "metadata": {},
   "cell_type": "markdown",
   "source": [
    "# 1\n",
    "Dada a lista de órgãos, use o método `.index()` para encontrar a posição do órgão `\"Pâncreas\"` e imprima o índice encontrado.\n"
   ],
   "id": "aac9a74be6a13773"
  },
  {
   "metadata": {
    "ExecuteTime": {
     "end_time": "2025-04-05T18:26:55.610979Z",
     "start_time": "2025-04-05T18:26:55.608388Z"
    }
   },
   "cell_type": "code",
   "source": [
    "lista_de_orgaos = [\n",
    "    \"Coração\", \"Rins\", \"Fígado\", \"Pâncreas\", \"Pulmões\", \"Intestino\",\n",
    "    \"Córneas\", \"Pele\", \"Ossos\", \"Válvulas cardíacas\", \"Cartilagem\",\n",
    "    \"Medula Óssea\", \"Tendões\", \"Vasos Sanguíneos\",\n",
    "    \"Sangue de Cordão Umbilical\", \"Sangue Universal\"\n",
    "]"
   ],
   "id": "d8468770f16aea4f",
   "outputs": [],
   "execution_count": 26
  },
  {
   "metadata": {
    "ExecuteTime": {
     "end_time": "2025-04-05T18:26:56.576509Z",
     "start_time": "2025-04-05T18:26:56.574080Z"
    }
   },
   "cell_type": "code",
   "source": [
    "indice_pancreas  = lista_de_orgaos.index(\"Pâncreas\")\n",
    "\n",
    "print(indice_pancreas)\n"
   ],
   "id": "67e6ecb626e31d16",
   "outputs": [
    {
     "name": "stdout",
     "output_type": "stream",
     "text": [
      "3\n"
     ]
    }
   ],
   "execution_count": 27
  },
  {
   "metadata": {},
   "cell_type": "markdown",
   "source": [
    "# 2\n",
    "Remova o órgão `\"Coração\"` da lista utilizando `.index()` para localizar a posição e `.pop()` para remover."
   ],
   "id": "bcb69cf4c0a517d1"
  },
  {
   "metadata": {
    "ExecuteTime": {
     "end_time": "2025-04-05T18:27:12.616540Z",
     "start_time": "2025-04-05T18:27:12.611509Z"
    }
   },
   "cell_type": "code",
   "source": [
    "indice_coracao = lista_de_orgaos.index(\"Coração\")\n",
    "\n",
    "lista_de_orgaos.pop(indice_coracao)\n",
    "\n",
    "print(lista_de_orgaos)"
   ],
   "id": "e44bf65983d29416",
   "outputs": [
    {
     "name": "stdout",
     "output_type": "stream",
     "text": [
      "['Rins', 'Pâncreas', 'Pulmões', 'Intestino', 'Córneas', 'Pele', 'Ossos', 'Válvulas cardíacas', 'Cartilagem', 'Medula Óssea', 'Tendões', 'Vasos Sanguíneos', 'Sangue de Cordão Umbilical', 'Sangue Universal']\n"
     ]
    }
   ],
   "execution_count": 29
  },
  {
   "metadata": {},
   "cell_type": "markdown",
   "source": [
    "# 3\n",
    "adicione o órgão `\"Coração\"` de volta à lista, na posição **0**, usando o método `.insert()`.\n"
   ],
   "id": "c2c68371edf655e5"
  },
  {
   "metadata": {
    "ExecuteTime": {
     "end_time": "2025-04-05T18:27:50.587322Z",
     "start_time": "2025-04-05T18:27:50.575101Z"
    }
   },
   "cell_type": "code",
   "source": [
    "lista_de_orgaos.insert(0, \"Coração\")\n",
    "\n",
    "print(lista_de_orgaos)"
   ],
   "id": "5f12a4a2f574e336",
   "outputs": [
    {
     "name": "stdout",
     "output_type": "stream",
     "text": [
      "['Coração', 'Rins', 'Pâncreas', 'Pulmões', 'Intestino', 'Córneas', 'Pele', 'Ossos', 'Válvulas cardíacas', 'Cartilagem', 'Medula Óssea', 'Tendões', 'Vasos Sanguíneos', 'Sangue de Cordão Umbilical', 'Sangue Universal']\n"
     ]
    }
   ],
   "execution_count": 30
  },
  {
   "metadata": {},
   "cell_type": "markdown",
   "source": [
    "# 4 Exercício — Diferença entre cópia e atribuição\n",
    "1. Crie uma lista `original = [\"A\", \"B\", \"C\"]`\n",
    "2. Faça `copia1 = original` e `copia2 = original.copy()`\n",
    "3. Modifique `copia1` e `copia2`\n",
    "4. Imprima todas as listas e observe as diferenças.\n"
   ],
   "id": "265dfe8c14ac667c"
  },
  {
   "metadata": {
    "ExecuteTime": {
     "end_time": "2025-04-05T18:37:18.560767Z",
     "start_time": "2025-04-05T18:37:18.552688Z"
    }
   },
   "cell_type": "code",
   "source": [
    "lista_original = [\"A\", \"B\", \"C\"]\n",
    "\n",
    "copia1 = lista_original\n",
    "copia2 = lista_original.copy()\n",
    "\n",
    "mudanca_copia1  = copia1.insert(3, \"D\")\n",
    "mudanca_copia2 = copia2.insert(3, \"E\")\n",
    "\n",
    "\n",
    "print(f\"copia_1 = {copia1} == lista_original = {lista_original} \\n\")\n",
    "\n",
    "print(f\"copia_2 = {copia2} != lista_original = {lista_original} e copia_1 {copia1}\\n\")"
   ],
   "id": "93bff2a6eedc1d72",
   "outputs": [
    {
     "name": "stdout",
     "output_type": "stream",
     "text": [
      "copia_1 = ['A', 'B', 'C', 'D'] == lista_original = ['A', 'B', 'C', 'D'] \n",
      "\n",
      "copia_2 = ['A', 'B', 'C', 'E'] != lista_original = ['A', 'B', 'C', 'D'] e copia_1 ['A', 'B', 'C', 'D']\n",
      "\n"
     ]
    }
   ],
   "execution_count": 42
  },
  {
   "metadata": {},
   "cell_type": "markdown",
   "source": [
    "# 5\n",
    "Dada a lista oficial de órgãos, crie uma cópia e **mantenha apenas** os órgãos que o doador \"Roberto\" deseja doar:\n",
    "> Roberto: `\"Rins\"`, `\"Fígado\"`, `\"Intestino\"`, `\"Medula Óssea\"`\n",
    "\n",
    "Utilize `.copy()`, `.index()` e `.pop()` para montar a nova lista.\n"
   ],
   "id": "faf6e663464c7ec0"
  },
  {
   "metadata": {
    "ExecuteTime": {
     "end_time": "2025-04-05T18:48:36.751776Z",
     "start_time": "2025-04-05T18:48:36.746313Z"
    }
   },
   "cell_type": "code",
   "source": [
    "lista_de_orgaos = [\n",
    "    \"Coração\", \"Rins\", \"Fígado\", \"Pâncreas\", \"Pulmões\", \"Intestino\",\n",
    "    \"Córneas\", \"Pele\", \"Ossos\", \"Válvulas cardíacas\", \"Cartilagem\",\n",
    "    \"Medula Óssea\", \"Tendões\", \"Vasos Sanguíneos\",\n",
    "    \"Sangue de Cordão Umbilical\", \"Sangue Universal\"\n",
    "]\n",
    "\n",
    "# 1. Copiar a lista\n",
    "lista_roberto = lista_de_orgaos.copy()\n",
    "\n",
    "# 2. Lista de órgãos permitidos\n",
    "orgaos_roberto = [\"Rins\", \"Fígado\", \"Intestino\", \"Medula Óssea\"]\n",
    "\n",
    "# 3. Remover os que NÃO estão na lista de Roberto\n",
    "for orgao in lista_de_orgaos:\n",
    "    if orgao not in orgaos_roberto:\n",
    "        index = lista_roberto.index(orgao)\n",
    "        lista_roberto.pop(index)\n",
    "\n",
    "# 4. Resultado\n",
    "print(\"Órgãos doados por Roberto:\", lista_roberto)\n"
   ],
   "id": "170f24ce66af35ac",
   "outputs": [
    {
     "name": "stdout",
     "output_type": "stream",
     "text": [
      "Órgãos doados por Roberto: ['Rins', 'Fígado', 'Intestino', 'Medula Óssea']\n"
     ]
    }
   ],
   "execution_count": 51
  }
 ],
 "metadata": {
  "kernelspec": {
   "display_name": "Python 3",
   "language": "python",
   "name": "python3"
  },
  "language_info": {
   "codemirror_mode": {
    "name": "ipython",
    "version": 2
   },
   "file_extension": ".py",
   "mimetype": "text/x-python",
   "name": "python",
   "nbconvert_exporter": "python",
   "pygments_lexer": "ipython2",
   "version": "2.7.6"
  }
 },
 "nbformat": 4,
 "nbformat_minor": 5
}
