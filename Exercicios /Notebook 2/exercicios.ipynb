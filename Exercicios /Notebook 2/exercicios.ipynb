{
 "cells": [
  {
   "metadata": {},
   "cell_type": "markdown",
   "source": [
    "# 📝 Exercícios: Variáveis e Entrada de Dados em Python\n",
    "\n",
    "## 🟢 Básico\n",
    "\n",
    "1. **Nome completo**\n",
    "   Peça o nome e o sobrenome do usuário e imprima o nome completo.\n",
    "\n",
    "2. **Idade em 5 anos**\n",
    "   Peça a idade da pessoa e diga quantos anos ela terá daqui a 5 anos.\n",
    "\n",
    "3. **Soma de dois números**\n",
    "   Solicite dois números inteiros e imprima a soma.\n",
    "\n",
    "4. **Mensagem personalizada**\n",
    "   Peça o nome e a cidade do usuário e exiba:\n",
    "   `\"Olá, NOME! Vejo que você é de CIDADE.\"`\n",
    "\n",
    "---\n",
    "\n",
    "## 🟡 Intermediário\n",
    "\n",
    "5. **Conversão de temperatura**\n",
    "   Peça uma temperatura em Celsius e converta para Fahrenheit usando a fórmula:\n",
    "   `F = C * 1.8 + 32`\n",
    "\n",
    "6. **Área de um retângulo**\n",
    "   Solicite a largura e altura e calcule a área do retângulo.\n",
    "\n",
    "7. **Idade com verificação de número**\n",
    "   Peça a idade e use `try/except` para garantir que o valor digitado é um número válido.\n",
    "\n",
    "---\n",
    "\n",
    "## 🔴 Desafios\n",
    "\n",
    "8. **Calculadora simples**\n",
    "   Peça dois números e a operação (+, -, *, /). Imprima o resultado da operação.\n",
    "\n",
    "9. **Boas-vindas formatadas**\n",
    "   Peça o nome, curso e instituição do aluno e imprima:\n",
    "   `\"Bem-vindo ao curso de CURSO na INSTITUIÇÃO, NOME!\"`\n",
    "\n",
    "10. **Entrada com valor padrão**\n",
    "    Peça a cidade. Se o usuário não digitar nada, use \"Brasília\" como valor padrão.\n"
   ],
   "id": "442d645fce9b241b"
  },
  {
   "metadata": {},
   "cell_type": "markdown",
   "source": [
    "## Básico\n",
    "1. **Nome completo**\n",
    "   Peça o nome e o sobrenome do usuário e imprima o nome completo."
   ],
   "id": "28622be93a1449fc"
  },
  {
   "metadata": {
    "ExecuteTime": {
     "end_time": "2025-04-02T16:58:34.795343Z",
     "start_time": "2025-04-02T16:58:25.220215Z"
    }
   },
   "cell_type": "code",
   "source": [
    "nome = input('Digite o seu nome: ')\n",
    "sobrenome = input('Digite o seu sobrenome: ')\n",
    "\n",
    "print(nome, sobrenome)"
   ],
   "id": "d54d7ac2a40a662d",
   "outputs": [
    {
     "name": "stdout",
     "output_type": "stream",
     "text": [
      "Gustavo Daher\n"
     ]
    }
   ],
   "execution_count": 1
  },
  {
   "metadata": {},
   "cell_type": "markdown",
   "source": [
    "2. **Idade em 5 anos**\n",
    "   Peça a idade da pessoa e diga quantos anos ela terá daqui a 5 anos."
   ],
   "id": "ba003a8167b80c35"
  },
  {
   "metadata": {
    "ExecuteTime": {
     "end_time": "2025-04-02T17:00:14.478544Z",
     "start_time": "2025-04-02T17:00:11.789256Z"
    }
   },
   "cell_type": "code",
   "source": [
    "idade = int(input('Digite a sua idade: '))\n",
    "idade_futura = idade + 5\n",
    "print(f'Daqui 5 anos você terá {idade_futura}')"
   ],
   "id": "7022370dc44d2a08",
   "outputs": [
    {
     "name": "stdout",
     "output_type": "stream",
     "text": [
      "Daqui 5 anos você terá 26\n"
     ]
    }
   ],
   "execution_count": 2
  },
  {
   "metadata": {},
   "cell_type": "markdown",
   "source": [
    "3. **Soma de dois números**\n",
    "   Solicite dois números inteiros e imprima a soma."
   ],
   "id": "f767063ec77d887a"
  },
  {
   "metadata": {
    "ExecuteTime": {
     "end_time": "2025-04-02T17:01:58.560882Z",
     "start_time": "2025-04-02T17:01:53.533175Z"
    }
   },
   "cell_type": "code",
   "source": [
    "num1 = int(input('Insira um número inteiro: '))\n",
    "num2 = int(input('Insira outro número inteiro: '))\n",
    "soma = num1 + num2\n",
    "print(soma)"
   ],
   "id": "f9729d2727c51462",
   "outputs": [
    {
     "name": "stdout",
     "output_type": "stream",
     "text": [
      "47\n"
     ]
    }
   ],
   "execution_count": 3
  },
  {
   "metadata": {},
   "cell_type": "markdown",
   "source": [
    "4. **Mensagem personalizada**\n",
    "   Peça o nome e a cidade do usuário e exiba:\n",
    "   `\"Olá, NOME! Vejo que você é de CIDADE.\"`"
   ],
   "id": "4fb8eb547fbefc2c"
  },
  {
   "metadata": {
    "ExecuteTime": {
     "end_time": "2025-04-02T17:05:38.865959Z",
     "start_time": "2025-04-02T17:05:23.185178Z"
    }
   },
   "cell_type": "code",
   "source": [
    "nome = input('Digite o seu nome: ')\n",
    "cidade = input('Digite a cidade de onde você é: ')\n",
    "\n",
    "mensagem = f'Olá {nome}!, vejo que você é de {cidade}. '\n",
    "\n",
    "print(mensagem)"
   ],
   "id": "d8b170353d7cd410",
   "outputs": [
    {
     "name": "stdout",
     "output_type": "stream",
     "text": [
      "Olá José Dirceu!, vejo que você é de Itaipava. \n"
     ]
    }
   ],
   "execution_count": 5
  },
  {
   "metadata": {},
   "cell_type": "markdown",
   "source": [
    "## Intermediário\n",
    "\n",
    "5. **Conversão de temperatura**\n",
    "   Peça uma temperatura em Celsius e converta para Fahrenheit usando a fórmula:\n",
    "   `F = C * 1.8 + 32`"
   ],
   "id": "92ec5015f5b8872f"
  },
  {
   "metadata": {
    "ExecuteTime": {
     "end_time": "2025-04-02T17:08:36.386017Z",
     "start_time": "2025-04-02T17:08:32.242240Z"
    }
   },
   "cell_type": "code",
   "source": [
    "temperatura_celsius = float(input('Digite a temperatura celsius: '))\n",
    "\n",
    "conversao_temperatura = temperatura_celsius * 1.8 +32\n",
    "\n",
    "print(f'A conversão de {temperatura_celsius} celsius para Fahrenheit é {conversao_temperatura} .')"
   ],
   "id": "8d318772cb54179d",
   "outputs": [
    {
     "name": "stdout",
     "output_type": "stream",
     "text": [
      "A conversão de 28.0 celsius para Fahrenheit é 82.4.\n"
     ]
    }
   ],
   "execution_count": 6
  },
  {
   "metadata": {},
   "cell_type": "markdown",
   "source": [
    "6. **Área de um retângulo**\n",
    "   Solicite a largura e altura e calcule a área do retângulo."
   ],
   "id": "f9b495b33b598ad4"
  },
  {
   "metadata": {
    "ExecuteTime": {
     "end_time": "2025-04-02T17:11:10.471437Z",
     "start_time": "2025-04-02T17:11:04.465672Z"
    }
   },
   "cell_type": "code",
   "source": [
    "altura = float(input('Qual a altura? '))\n",
    "largura = float(input('Qual a largura? '))\n",
    "\n",
    "calculo_area = largura * altura\n",
    "\n",
    "print(f\"Considerando {largura}x{altura} a área deste retângulo é {calculo_area}\")"
   ],
   "id": "bfe0c1c446390fcb",
   "outputs": [
    {
     "name": "stdout",
     "output_type": "stream",
     "text": [
      "Considerando 4.0x12.3 a área deste retângulo é 49.2\n"
     ]
    }
   ],
   "execution_count": 7
  },
  {
   "metadata": {},
   "cell_type": "markdown",
   "source": [
    "7. **Idade com verificação de número**\n",
    "   Peça a idade e use `try/except` para garantir que o valor digitado é um número válido."
   ],
   "id": "48afa934de22a03a"
  },
  {
   "metadata": {
    "ExecuteTime": {
     "end_time": "2025-04-02T17:13:30.419486Z",
     "start_time": "2025-04-02T17:13:27.587172Z"
    }
   },
   "cell_type": "code",
   "source": [
    "try:\n",
    "    idade = int(input('Insira a sua idade: '))\n",
    "\n",
    "except ValueError:\n",
    "    print('A idade deve ser um número inteiro')\n"
   ],
   "id": "f1b99f5935e9920d",
   "outputs": [
    {
     "name": "stdout",
     "output_type": "stream",
     "text": [
      "A idade deve ser um número inteiro\n"
     ]
    }
   ],
   "execution_count": 9
  },
  {
   "metadata": {},
   "cell_type": "markdown",
   "source": [
    "Desafios\n",
    "\n",
    "8. **Calculadora simples**\n",
    "   Peça dois números e a operação (+, -, *, /). Imprima o resultado da operação."
   ],
   "id": "caa9ffe16d4774a6"
  },
  {
   "metadata": {
    "ExecuteTime": {
     "end_time": "2025-04-02T17:34:31.755735Z",
     "start_time": "2025-04-02T17:34:24.437376Z"
    }
   },
   "cell_type": "code",
   "source": [
    "\n",
    "num1 = float(input('Insira o primeiro número: '))\n",
    "num2 = float(input('Insira o segundo número: '))\n",
    "\n",
    "opcao = input('''Qual operação deseja fazer?\n",
    "        1 - Adição\n",
    "        2 - Subtração\n",
    "        3 - Multiplicação\n",
    "        4 - Divisão\n",
    "        ''')\n",
    "\n",
    "if opcao == '1':\n",
    "    soma = num1 + num2\n",
    "    print(f'O resultado da soma é {soma}')\n",
    "\n",
    "if opcao == '2':\n",
    "    sub = num1 - num2\n",
    "    print(f'O resultado da subtração é {sub}')\n",
    "\n",
    "if opcao == '3':\n",
    "    multiplicacao = num1 * num2\n",
    "    print(f'O resultado da multiplicação é {multiplicacao}')\n",
    "\n",
    "if opcao == '4':\n",
    "    divisao = num1 / num2\n",
    "    print(f'O resultado da divisão é {divisao}')\n"
   ],
   "id": "61b73adb5f141215",
   "outputs": [
    {
     "name": "stdout",
     "output_type": "stream",
     "text": [
      "O resultado da subtração é 8.0\n"
     ]
    }
   ],
   "execution_count": 13
  },
  {
   "metadata": {},
   "cell_type": "markdown",
   "source": [
    "9. **Boas-vindas formatadas**\n",
    "   Peça o nome, curso e instituição do aluno e imprima:\n",
    "   `\"Bem-vindo ao curso de CURSO na INSTITUIÇÃO, NOME!\"`"
   ],
   "id": "8ccd77d0ea31664a"
  },
  {
   "metadata": {
    "ExecuteTime": {
     "end_time": "2025-04-02T17:37:47.872111Z",
     "start_time": "2025-04-02T17:37:26.915291Z"
    }
   },
   "cell_type": "code",
   "source": [
    "nome = input('Digite o seu nome: ')\n",
    "curso = input('Digite o seu curso: ')\n",
    "instituicao = input('Digite a sua instituição de ensino: ')\n",
    "\n",
    "mensagem_boas_vindas = f'Olá {nome} bem-vindo ao curso de {curso} na instituição de ensino {instituicao}'\n",
    "print(mensagem_boas_vindas)"
   ],
   "id": "84172516a7b52ecd",
   "outputs": [
    {
     "name": "stdout",
     "output_type": "stream",
     "text": [
      "Olá Gustavo bem-vindo ao curso de Engenharia de sofware na instituição de ensino IDP\n"
     ]
    }
   ],
   "execution_count": 14
  }
 ],
 "metadata": {
  "kernelspec": {
   "display_name": "Python 3",
   "language": "python",
   "name": "python3"
  },
  "language_info": {
   "codemirror_mode": {
    "name": "ipython",
    "version": 2
   },
   "file_extension": ".py",
   "mimetype": "text/x-python",
   "name": "python",
   "nbconvert_exporter": "python",
   "pygments_lexer": "ipython2",
   "version": "2.7.6"
  }
 },
 "nbformat": 4,
 "nbformat_minor": 5
}
