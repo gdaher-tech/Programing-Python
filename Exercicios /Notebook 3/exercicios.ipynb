{
 "cells": [
  {
   "metadata": {},
   "cell_type": "markdown",
   "source": [
    "## Conceitos: Listas, Estruturas de Decisão e Operador `in`\n",
    "\n",
    "---\n",
    "\n",
    "### 1. Verificador de Presença\n",
    "Peça ao usuário uma lista de nomes e depois um nome para buscar. Informe se o nome está presente na lista ou não.\n",
    "\n",
    "**Entrada:** Lista de nomes e nome a procurar\n",
    "**Saída:** Mensagem indicando se está ou não na lista\n",
    "\n",
    "---\n",
    "\n",
    "### 2. Filtro de Números Pares\n",
    "Dada uma lista de números inteiros, crie uma nova lista contendo apenas os números pares.\n",
    "\n",
    "**Entrada:** Lista de inteiros\n",
    "**Saída:** Lista com os números pares\n",
    "\n",
    "---\n",
    "\n",
    "### 3. Classificador de Notas\n",
    "Dada uma lista de notas de alunos (valores de 0 a 10), percorra a lista e classifique cada nota como:\n",
    "- Reprovado (nota < 5)\n",
    "- Recuperação (5 ≤ nota < 7)\n",
    "- Aprovado (nota ≥ 7)\n",
    "\n",
    "**Entrada:** Lista de notas\n",
    "**Saída:** Classificação de cada nota\n",
    "\n",
    "---\n",
    "\n",
    "### 4. Menu de Opções\n",
    "Crie um menu simples com 3 opções:\n",
    "\n",
    "1. Mostrar lista\n",
    "2. Adicionar item à lista\n",
    "3. Verificar se um item está na lista (usando `in`)\n",
    "\n",
    "**Use `if` / `elif` / `else` para controlar o menu.**\n",
    "\n",
    "---\n",
    "\n",
    "### 5. Lista de Convidados\n",
    "Você tem uma lista de convidados para uma festa. Peça ao usuário um nome e diga se ele pode entrar ou não (está na lista).\n",
    "\n",
    "**Entrada:** Lista de convidados + nome digitado\n",
    "**Saída:** Mensagem de permissão ou negação\n",
    "\n",
    "---"
   ],
   "id": "3926ac86a9c7a599"
  },
  {
   "metadata": {},
   "cell_type": "markdown",
   "source": "# 1",
   "id": "be387141368ba30d"
  },
  {
   "metadata": {
    "ExecuteTime": {
     "end_time": "2025-04-05T14:12:49.196707Z",
     "start_time": "2025-04-05T14:12:29.067346Z"
    }
   },
   "cell_type": "code",
   "source": [
    "\n",
    "lista_nomes = input(\"Faça uma lista de nomes:  \").split() # Recebe os nomes do usuário, aplica .split para separar as entradas.\n",
    "\n",
    "lista_nomes = list(lista_nomes[::1])\n",
    "\n",
    "#pulando_nomes = lista_nomes\n",
    "\n",
    "print(lista_nomes)\n",
    "\n"
   ],
   "id": "c79a48eeab5e835c",
   "outputs": [
    {
     "name": "stdout",
     "output_type": "stream",
     "text": [
      "['Gustavo', 'Rafael', 'Henrique', 'Camilla', 'Alexandre', 'Davi']\n"
     ]
    }
   ],
   "execution_count": 10
  },
  {
   "metadata": {},
   "cell_type": "markdown",
   "source": "# 2",
   "id": "a38594e4226cad09"
  },
  {
   "metadata": {
    "ExecuteTime": {
     "end_time": "2025-04-05T14:56:31.987921Z",
     "start_time": "2025-04-05T14:56:31.981411Z"
    }
   },
   "cell_type": "code",
   "source": [
    "lista = [10, 13, 8, 7, 6]\n",
    "pares = list(filter(lambda x: x % 2 == 0, lista))\n",
    "\n",
    "print(pares)\n"
   ],
   "id": "f4ea0139442cf544",
   "outputs": [
    {
     "name": "stdout",
     "output_type": "stream",
     "text": [
      "[10, 8, 6]\n"
     ]
    }
   ],
   "execution_count": 49
  },
  {
   "metadata": {},
   "cell_type": "markdown",
   "source": "### Exercícios Adicionais",
   "id": "14e4967c17eacaed"
  },
  {
   "metadata": {
    "ExecuteTime": {
     "end_time": "2025-04-05T15:08:00.848011Z",
     "start_time": "2025-04-05T15:08:00.842202Z"
    }
   },
   "cell_type": "code",
   "source": [
    "# Dobrar todos os números de uma lista\n",
    "# Entrada: [1, 2, 3, 4]\n",
    "# Saída esperada: [2, 4, 6, 8]\n",
    "\n",
    "# Use lambda + map()\n",
    "\n",
    "numerous = [1, 2, 3, 4]\n",
    "\n",
    "dobrados = list(map(lambda x: x * 2, numerous))\n",
    "\n",
    "print(dobrados)\n",
    "\n"
   ],
   "id": "654d15330b0e763",
   "outputs": [
    {
     "name": "stdout",
     "output_type": "stream",
     "text": [
      "[2, 4, 6, 8]\n"
     ]
    }
   ],
   "execution_count": 50
  },
  {
   "metadata": {
    "ExecuteTime": {
     "end_time": "2025-04-05T15:11:35.773723Z",
     "start_time": "2025-04-05T15:11:35.769639Z"
    }
   },
   "cell_type": "code",
   "source": [
    "# Filtrar somente os números inpars\n",
    "# Entrada: [1, 2, 3, 4, 5, 6]\n",
    "# Saída esperada: [1, 3, 5]\n",
    "\n",
    "# Use lambda + filter()\n",
    "\n",
    "numerous = [1, 2, 3, 4, 5]\n",
    "\n",
    "numerous_inpars = list(filter(lambda x: x % 2 != 0, numerous))\n",
    "\n",
    "print(numerous_inpars)\n"
   ],
   "id": "36a05ab28bce4bca",
   "outputs": [
    {
     "name": "stdout",
     "output_type": "stream",
     "text": [
      "[1, 3, 5]\n"
     ]
    }
   ],
   "execution_count": 52
  },
  {
   "metadata": {},
   "cell_type": "markdown",
   "source": "# 3",
   "id": "8ad9eb9bd5d76fd1"
  },
  {
   "metadata": {
    "ExecuteTime": {
     "end_time": "2025-04-05T15:27:36.878717Z",
     "start_time": "2025-04-05T15:27:36.872631Z"
    }
   },
   "cell_type": "code",
   "source": [
    "# Dada uma lista de notas de alunos (valores de 0 a 10), percorra a lista e classifique cada nota como:\n",
    "# - Reprovado (nota < 5)\n",
    "# - Recuperação (5 ≤ nota < 7)\n",
    "# - Aprovado (nota ≥ 7)\n",
    "\n",
    "notas = [7.5, 8.2, 6.0, 9.1, 5.8]\n",
    "\n",
    "reprovados = list(filter(lambda x: x < 5 , notas))\n",
    "\n",
    "recuperacao = list(filter(lambda x: x == 5 or x < 7 , notas))\n",
    "\n",
    "aprovadas = list(filter(lambda n: n > 7, notas))\n",
    "\n",
    "if len(reprovados) == 0:\n",
    "    print(\"Nenhuma nota foi reprovada\")\n",
    "else:\n",
    "    print(f\"As notas reprovadas foram {reprovados}\")\n",
    "\n",
    "if len(recuperacao) == 0:\n",
    "    print(\"Nenhuma nota foi encaminhada para recuperação\")\n",
    "else:\n",
    "    print(f\"As notas encaminhadas para recuperação foram {recuperacao}\")\n",
    "\n",
    "if len(aprovadas) == 0:\n",
    "    print(\"Nenhuma nota foi aprovada\")\n",
    "else:\n",
    "    print(f\"As notas aprovadas foram:  {aprovadas}\")\n"
   ],
   "id": "eae208be88842972",
   "outputs": [
    {
     "name": "stdout",
     "output_type": "stream",
     "text": [
      "Nenhuma nota foi reprovada\n",
      "As notas encaminhadas para recuperação foram [6.0, 5.8]\n",
      "As notas aprovadas foram:  [7.5, 8.2, 9.1]\n"
     ]
    }
   ],
   "execution_count": 67
  },
  {
   "metadata": {},
   "cell_type": "markdown",
   "source": [
    "# 4\n",
    "Crie um menu simples com 3 opções:\n",
    "\n",
    "1. Mostrar lista\n",
    "2. Adicionar item à lista\n",
    "3. Verificar se um item está na lista (usando `in`)\n",
    "\n",
    "**Use `if` / `elif` / `else` para controlar o menu.**"
   ],
   "id": "20b5ef2b6cc43de0"
  },
  {
   "metadata": {
    "ExecuteTime": {
     "end_time": "2025-04-05T15:43:41.917334Z",
     "start_time": "2025-04-05T15:43:33.339159Z"
    }
   },
   "cell_type": "code",
   "source": [
    "lista = [10, 20, 30, 40, 50]\n",
    "\n",
    "print('''Menu de Opções\n",
    "    1 - Mostrar Lista\n",
    "    2 - Adicionar item a lista\n",
    "    3 - Verificar se um item está na lista\n",
    "''')\n",
    "\n",
    "opcao = int(input(\"Insira o número referente a opção desejada: \"))\n",
    "\n",
    "if opcao == 1:\n",
    "    print(lista)\n",
    "\n",
    "elif opcao == 2:\n",
    "    print(f\"A seguir vou imprimir a lista, assim você pode decidir o item que deseja adicionar a lista.\")\n",
    "    print(lista)\n",
    "    add_num = int(input(\"Insira o número que deseja adicionar a lista: \"))\n",
    "\n",
    "    if add_num in lista:\n",
    "        print(\"Este número ja esta na lista\")\n",
    "\n",
    "    else :\n",
    "        lista.append(add_num)\n",
    "        print(f\"Lista atualizada: {lista}\")\n",
    "\n",
    "elif opcao == 3:\n",
    "    print(\"A seguir insira o número que deseja verificar se está na lista.\")\n",
    "    verify_number = int(input(\"Número: \"))\n",
    "    if verify_number in lista:\n",
    "        print(\"O número esta na lista\")\n",
    "\n",
    "    else:\n",
    "        print(\"O núemro não esta na lista\")\n",
    "        add2_num = int(input(\"Deseja adiconar o numero a lista? \"))\n",
    "\n",
    "        if add2_num == 's':\n",
    "            add_num2 = int(input(\"Insira o núemro que deseja adicionar a lista: \"))\n",
    "            lista.append(add_num2)\n"
   ],
   "id": "963cefd284b7eb4",
   "outputs": [
    {
     "name": "stdout",
     "output_type": "stream",
     "text": [
      "Menu de Opções\n",
      "    1 - Mostrar Lista\n",
      "    2 - Adicionar item a lista\n",
      "    3 - Verificar se um item está na lista\n",
      "\n",
      "A seguir insira o número que deseja verificar se está na lista.\n",
      "O número esta na lista\n"
     ]
    }
   ],
   "execution_count": 75
  },
  {
   "metadata": {},
   "cell_type": "markdown",
   "source": [
    "# 5\n",
    "Você tem uma lista de convidados para uma festa. Peça ao usuário um nome e diga se ele pode entrar ou não (está na lista).\n",
    "\n",
    "**Entrada:** Lista de convidados + nome digitado\n",
    "**Saída:** Mensagem de permissão ou negação\n"
   ],
   "id": "c99581b68d5baf88"
  },
  {
   "metadata": {
    "ExecuteTime": {
     "end_time": "2025-04-05T15:48:54.029750Z",
     "start_time": "2025-04-05T15:48:50.255282Z"
    }
   },
   "cell_type": "code",
   "source": [
    "convidados = [\"Ana\", \"Bruno\", \"Carla\", \"Daniel\", \"Eduarda\", \"Felipe\", \"Gabriela\", \"Henrique\"]\n",
    "\n",
    "verificar_convidados = convidados.copy()\n",
    "\n",
    "entrada_usuario = input(\"Digite um nome: \")\n",
    "\n",
    "if entrada_usuario in convidados:\n",
    "    print(\"Permissão para entrar concedida!\")\n",
    "\n",
    "else:\n",
    "    print(\"Permissão para entrar negada\")"
   ],
   "id": "796b6245e66ff380",
   "outputs": [
    {
     "name": "stdout",
     "output_type": "stream",
     "text": [
      "Permissão para entrar concedida!\n"
     ]
    }
   ],
   "execution_count": 79
  }
 ],
 "metadata": {
  "kernelspec": {
   "display_name": "Python 3",
   "language": "python",
   "name": "python3"
  },
  "language_info": {
   "codemirror_mode": {
    "name": "ipython",
    "version": 2
   },
   "file_extension": ".py",
   "mimetype": "text/x-python",
   "name": "python",
   "nbconvert_exporter": "python",
   "pygments_lexer": "ipython2",
   "version": "2.7.6"
  }
 },
 "nbformat": 4,
 "nbformat_minor": 5
}
