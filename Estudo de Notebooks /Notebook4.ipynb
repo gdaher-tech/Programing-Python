{
 "cells": [
  {
   "metadata": {},
   "cell_type": "markdown",
   "source": [
    "# Métodos de Lista em Python: `.append()`, `.remove()`, `.extend()`\n",
    "\n",
    "## 📌 1. Lista Inicial\n",
    "```python\n",
    "lista_de_orgaos = [\"Coração\", \"Rins\", \"Fígado\", \"Pâncreas\", \"Pulmões\"]\n"
   ],
   "id": "6e7af3879e2dff5"
  },
  {
   "cell_type": "code",
   "id": "initial_id",
   "metadata": {
    "collapsed": true,
    "ExecuteTime": {
     "end_time": "2025-04-05T16:31:01.433775Z",
     "start_time": "2025-04-05T16:31:01.427418Z"
    }
   },
   "source": [
    "lista_numeros = [5, 10, 25, 12]  # Lista de números já definida\n",
    "\n",
    "print(lista_numeros.append(12)) # imprimindo a lista de números com o .append() para add 12\n",
    "\n",
    "lista_numeros2 = [21, 21, 26, 45, 50, 19]\n",
    "\n",
    "avulsos = 10, 14, 15\n",
    "\n",
    "lista_numeros2.append(avulsos)\n",
    "\n",
    "print(lista_numeros2)\n"
   ],
   "outputs": [
    {
     "name": "stdout",
     "output_type": "stream",
     "text": [
      "None\n",
      "[21, 21, 26, 45, 50, 19, (10, 14, 15)]\n"
     ]
    }
   ],
   "execution_count": 40
  },
  {
   "metadata": {
    "ExecuteTime": {
     "end_time": "2025-04-05T16:31:03.052212Z",
     "start_time": "2025-04-05T16:31:03.049714Z"
    }
   },
   "cell_type": "code",
   "source": "lista_inicial = [\"Coração\", \"Rins\", \"Fígado\", \"Pâncreas\", \"Pulmões\"]",
   "id": "8930e62e364ea42",
   "outputs": [],
   "execution_count": 41
  },
  {
   "metadata": {},
   "cell_type": "markdown",
   "source": [
    "## .append()\n",
    "- Adiciona um único item ao final da lista\n",
    "- Modifica a lista original\n",
    "- Não retorna valor  (none)"
   ],
   "id": "9944fcc7b0437b28"
  },
  {
   "metadata": {
    "ExecuteTime": {
     "end_time": "2025-04-05T16:31:05.091438Z",
     "start_time": "2025-04-05T16:31:05.088015Z"
    }
   },
   "cell_type": "code",
   "source": "lista_inicial.append(\"Córneas\")",
   "id": "b282c6cc9bd06624",
   "outputs": [],
   "execution_count": 42
  },
  {
   "metadata": {},
   "cell_type": "markdown",
   "source": [
    "Utilizando o método .append() acima, adicionamos \"Córneas\" ao final da lista, sendo assim modificamos a lista original sem ter nenhum retorno.\n",
    "Abaixo irei imprimir a lista, para que fique constatado que realmente \"Córneas\" foi adicinada a lista e se encontra na última posição."
   ],
   "id": "de569e442b138d18"
  },
  {
   "metadata": {
    "ExecuteTime": {
     "end_time": "2025-04-05T16:31:06.681670Z",
     "start_time": "2025-04-05T16:31:06.678967Z"
    }
   },
   "cell_type": "code",
   "source": "print(lista_inicial)",
   "id": "dfea34d5add074a4",
   "outputs": [
    {
     "name": "stdout",
     "output_type": "stream",
     "text": [
      "['Coração', 'Rins', 'Fígado', 'Pâncreas', 'Pulmões', 'Córneas']\n"
     ]
    }
   ],
   "execution_count": 43
  },
  {
   "metadata": {},
   "cell_type": "markdown",
   "source": [
    "## .remove()\n",
    "- Remove o primeiro item correspondente a lista.\n",
    "- Lança erro 'ValueError' se o item não existir"
   ],
   "id": "cd0f8fb0380f02a6"
  },
  {
   "metadata": {
    "ExecuteTime": {
     "end_time": "2025-04-05T16:31:14.864547Z",
     "start_time": "2025-04-05T16:31:08.581416Z"
    }
   },
   "cell_type": "code",
   "source": [
    "\n",
    "orgao = input(\"Digite o orgão que deseja remover: \")\n",
    "\n",
    "if orgao in lista_inicial:\n",
    "    lista_inicial.remove(orgao)\n",
    "else:\n",
    "    print(\"Órgão não está na lista\")"
   ],
   "id": "5c5a8ed64f866b46",
   "outputs": [],
   "execution_count": 44
  },
  {
   "metadata": {
    "ExecuteTime": {
     "end_time": "2025-04-05T16:31:16.969578Z",
     "start_time": "2025-04-05T16:31:16.965667Z"
    }
   },
   "cell_type": "code",
   "source": "print(lista_inicial)",
   "id": "ab364f7da45a6670",
   "outputs": [
    {
     "name": "stdout",
     "output_type": "stream",
     "text": [
      "['Coração', 'Rins', 'Fígado', 'Pâncreas', 'Pulmões']\n"
     ]
    }
   ],
   "execution_count": 45
  },
  {
   "metadata": {},
   "cell_type": "markdown",
   "source": "Isso significa que se o item que ele remove o primeiro item que estiver dentro dele, ex. lista_tal.remove(item1), se tiver outro item1 mais na frente da lista, ele não será removido.",
   "id": "17e7b7ef375df46f"
  },
  {
   "metadata": {},
   "cell_type": "markdown",
   "source": [
    "## .extend()\n",
    "- Adiciona vários itens de uma vez em uma lista\n",
    "- Ideal para adicionar múltiplos órgãos ao mesmo tempo\n"
   ],
   "id": "8e29e5fe90ebb1a2"
  },
  {
   "metadata": {
    "ExecuteTime": {
     "end_time": "2025-04-05T16:31:30.104245Z",
     "start_time": "2025-04-05T16:31:20.752367Z"
    }
   },
   "cell_type": "code",
   "source": [
    "orgaos_add = input(\"Insira os órgãos que desejada adicionar, usando , para separa-los: \").split(\",\")\n",
    "\n",
    "lista_inicial.extend(orgaos_add)\n",
    "\n",
    "print(lista_inicial)"
   ],
   "id": "89ea7fe24631f55f",
   "outputs": [
    {
     "name": "stdout",
     "output_type": "stream",
     "text": [
      "['Coração', 'Rins', 'Fígado', 'Pâncreas', 'Pulmões', 'Pele', ' Ossos']\n"
     ]
    }
   ],
   "execution_count": 46
  }
 ],
 "metadata": {
  "kernelspec": {
   "display_name": "Python 3",
   "language": "python",
   "name": "python3"
  },
  "language_info": {
   "codemirror_mode": {
    "name": "ipython",
    "version": 2
   },
   "file_extension": ".py",
   "mimetype": "text/x-python",
   "name": "python",
   "nbconvert_exporter": "python",
   "pygments_lexer": "ipython2",
   "version": "2.7.6"
  }
 },
 "nbformat": 4,
 "nbformat_minor": 5
}
