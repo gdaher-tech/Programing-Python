{
 "cells": [
  {
   "metadata": {},
   "cell_type": "markdown",
   "source": [
    "# Estudo notebook 3\n",
    "## Listas, estruturas de decisão, e o operador in"
   ],
   "id": "a536d32ea2fefd84"
  },
  {
   "metadata": {},
   "cell_type": "markdown",
   "source": [
    "### 1. Listas\n",
    "- Estrutura que armazena vários valores em uma única variável."
   ],
   "id": "1c74500d34f2f7b2"
  },
  {
   "metadata": {
    "ExecuteTime": {
     "end_time": "2025-04-02T17:57:09.569550Z",
     "start_time": "2025-04-02T17:57:09.566430Z"
    }
   },
   "cell_type": "code",
   "source": "listas_de_orgaos = ['Coração', 'Pulmões', 'Pele', 'Rins', 'Pâncreas', 'Fígado']",
   "id": "1772d9929f61aff3",
   "outputs": [],
   "execution_count": 2
  },
  {
   "metadata": {},
   "cell_type": "markdown",
   "source": "- Acessar elementos por itens.",
   "id": "c7c07890a799160e"
  },
  {
   "metadata": {
    "ExecuteTime": {
     "end_time": "2025-04-02T17:58:00.955589Z",
     "start_time": "2025-04-02T17:58:00.946923Z"
    }
   },
   "cell_type": "code",
   "source": [
    "coracao = listas_de_orgaos[0]\n",
    "print(coracao)"
   ],
   "id": "40761d116a4f6d1e",
   "outputs": [
    {
     "name": "stdout",
     "output_type": "stream",
     "text": [
      "Coração\n"
     ]
    }
   ],
   "execution_count": 3
  },
  {
   "metadata": {},
   "cell_type": "markdown",
   "source": "- Usar loops",
   "id": "35d51982322177fe"
  },
  {
   "metadata": {
    "ExecuteTime": {
     "end_time": "2025-04-02T17:59:27.071331Z",
     "start_time": "2025-04-02T17:59:27.068374Z"
    }
   },
   "cell_type": "code",
   "source": [
    "for orgaos in listas_de_orgaos:\n",
    "    print(orgaos)"
   ],
   "id": "780d6bb323d4628a",
   "outputs": [
    {
     "name": "stdout",
     "output_type": "stream",
     "text": [
      "Coração\n",
      "Pulmões\n",
      "Pele\n",
      "Rins\n",
      "Pâncreas\n",
      "Fígado\n"
     ]
    }
   ],
   "execution_count": 6
  },
  {
   "metadata": {},
   "cell_type": "markdown",
   "source": "- Verificar se algo esta na lista",
   "id": "833b6d7508029afb"
  },
  {
   "metadata": {
    "ExecuteTime": {
     "end_time": "2025-04-02T18:01:41.394749Z",
     "start_time": "2025-04-02T18:01:41.391214Z"
    }
   },
   "cell_type": "code",
   "source": [
    "if 'Coração' in listas_de_orgaos:\n",
    "    print(f'Coração esta na lista')\n",
    "else:\n",
    "    print('Coração não esta na lista')"
   ],
   "id": "ff73fb35f4b2c5b4",
   "outputs": [
    {
     "name": "stdout",
     "output_type": "stream",
     "text": [
      "Coração esta na lista\n"
     ]
    }
   ],
   "execution_count": 8
  },
  {
   "metadata": {},
   "cell_type": "markdown",
   "source": "### 2. Entrada de dados e busca na lista",
   "id": "69fefbe94900312b"
  },
  {
   "metadata": {
    "ExecuteTime": {
     "end_time": "2025-04-02T18:04:06.120689Z",
     "start_time": "2025-04-02T18:04:03.338605Z"
    }
   },
   "cell_type": "code",
   "source": [
    "orgao = input('Insira o nome de um orgão: ')\n",
    "\n",
    "if orgao in listas_de_orgaos:\n",
    "    print(f'{orgao} está na lista')\n",
    "else:\n",
    "    print(f'{orgao} não esta na lista')"
   ],
   "id": "2b9b5c5d62ebf4b0",
   "outputs": [
    {
     "name": "stdout",
     "output_type": "stream",
     "text": [
      "Pele está na lista\n"
     ]
    }
   ],
   "execution_count": 10
  },
  {
   "metadata": {},
   "cell_type": "markdown",
   "source": [
    "### 3. Estrutura de decisão\n",
    "Sintaxe"
   ],
   "id": "14f5f6cebcfd5574"
  },
  {
   "metadata": {
    "ExecuteTime": {
     "end_time": "2025-04-02T18:11:21.511744Z",
     "start_time": "2025-04-02T18:11:16.616584Z"
    }
   },
   "cell_type": "code",
   "source": [
    "opcao = input('Insira 1 para cadastrar doadores \\n Insira 2 para Adicionar doação \\n')\n",
    "\n",
    "if opcao == '1':\n",
    "    print('Seja bem vindo a aba de cadastro')\n",
    "elif opcao == '2':\n",
    "    print('Seja bem vindo a aba de doações')\n",
    "else:\n",
    "    print('Opção inválida')\n",
    "\n"
   ],
   "id": "8ca29a2bb5711071",
   "outputs": [
    {
     "name": "stdout",
     "output_type": "stream",
     "text": [
      "Seja bem vindo a aba de doações\n"
     ]
    }
   ],
   "execution_count": 11
  },
  {
   "metadata": {},
   "cell_type": "markdown",
   "source": "",
   "id": "eb2878582995bf31"
  }
 ],
 "metadata": {
  "kernelspec": {
   "display_name": "Python 3",
   "language": "python",
   "name": "python3"
  },
  "language_info": {
   "codemirror_mode": {
    "name": "ipython",
    "version": 2
   },
   "file_extension": ".py",
   "mimetype": "text/x-python",
   "name": "python",
   "nbconvert_exporter": "python",
   "pygments_lexer": "ipython2",
   "version": "2.7.6"
  }
 },
 "nbformat": 4,
 "nbformat_minor": 5
}
