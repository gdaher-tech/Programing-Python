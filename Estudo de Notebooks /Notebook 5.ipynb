{
 "cells": [
  {
   "metadata": {},
   "cell_type": "markdown",
   "source": "# 🧪 Métodos de Lista: `.index()`, `.pop()`, `.insert()`, `.copy()`\n",
   "id": "266e016ad583ee9c"
  },
  {
   "metadata": {
    "ExecuteTime": {
     "end_time": "2025-04-05T18:02:36.227553Z",
     "start_time": "2025-04-05T18:02:36.224199Z"
    }
   },
   "cell_type": "code",
   "source": [
    "## 📌 Lista oficial de órgãos\n",
    "\n",
    "lista_de_orgaos = [\n",
    "    \"Coração\", \"Rins\", \"Fígado\", \"Pâncreas\", \"Pulmões\", \"Intestino\",\n",
    "    \"Córneas\", \"Pele\", \"Ossos\", \"Válvulas cardíacas\", \"Cartilagem\",\n",
    "    \"Medula Óssea\", \"Tendões\", \"Vasos Sanguíneos\",\n",
    "    \"Sangue de Cordão Umbilical\", \"Sangue Universal\"\n",
    "]\n"
   ],
   "id": "3f6c9ac83f2e1127",
   "outputs": [],
   "execution_count": 3
  },
  {
   "metadata": {},
   "cell_type": "markdown",
   "source": [
    "# .index()\n",
    "- Retorna o índice (Posição) de um item na lista."
   ],
   "id": "ab8aee49078d1e2d"
  },
  {
   "metadata": {
    "ExecuteTime": {
     "end_time": "2025-04-05T18:04:42.485039Z",
     "start_time": "2025-04-05T18:04:42.482249Z"
    }
   },
   "cell_type": "code",
   "source": [
    "indice = lista_de_orgaos.index(\"Coração\")\n",
    "\n",
    "print(indice)# Ex: 0"
   ],
   "id": "250807da94f2e0e8",
   "outputs": [
    {
     "name": "stdout",
     "output_type": "stream",
     "text": [
      "0\n"
     ]
    }
   ],
   "execution_count": 10
  },
  {
   "metadata": {},
   "cell_type": "markdown",
   "source": [
    "# .pop()\n",
    "- Retorna o índice (Posição) de um item na lista"
   ],
   "id": "1c99d847d3b7e220"
  },
  {
   "metadata": {
    "ExecuteTime": {
     "end_time": "2025-04-05T18:06:00.357227Z",
     "start_time": "2025-04-05T18:06:00.352021Z"
    }
   },
   "cell_type": "code",
   "source": [
    "indice = lista_de_orgaos.pop(3)\n",
    "\n",
    "print(indice)"
   ],
   "id": "e09f92fedc1f6fa1",
   "outputs": [
    {
     "name": "stdout",
     "output_type": "stream",
     "text": [
      "Pâncreas\n"
     ]
    }
   ],
   "execution_count": 11
  },
  {
   "metadata": {},
   "cell_type": "markdown",
   "source": "# Cópias de listas: .copy() vs atribuição direta",
   "id": "42e8b0acab816f8c"
  },
  {
   "metadata": {
    "ExecuteTime": {
     "end_time": "2025-04-05T18:08:38.698700Z",
     "start_time": "2025-04-05T18:08:38.689732Z"
    }
   },
   "cell_type": "code",
   "source": [
    "lista_copia = lista_de_orgaos # Cópia superficial. Apenas cria outra referência para mesma lista na memória\n",
    "\n",
    "lista_copia_1  = lista_de_orgaos.copy() # nova lista independente\n",
    "\n",
    "print(lista_copia)\n",
    "print(lista_copia_1)\n",
    "\n"
   ],
   "id": "fe7a265a2851192a",
   "outputs": [
    {
     "name": "stdout",
     "output_type": "stream",
     "text": [
      "['Coração', 'Rins', 'Fígado', 'Pulmões', 'Intestino', 'Córneas', 'Pele', 'Ossos', 'Válvulas cardíacas', 'Cartilagem', 'Medula Óssea', 'Tendões', 'Vasos Sanguíneos', 'Sangue de Cordão Umbilical', 'Sangue Universal']\n",
      "['Coração', 'Rins', 'Fígado', 'Pulmões', 'Intestino', 'Córneas', 'Pele', 'Ossos', 'Válvulas cardíacas', 'Cartilagem', 'Medula Óssea', 'Tendões', 'Vasos Sanguíneos', 'Sangue de Cordão Umbilical', 'Sangue Universal']\n"
     ]
    }
   ],
   "execution_count": 12
  },
  {
   "metadata": {},
   "cell_type": "markdown",
   "source": [
    "# .insert()\n",
    "- Insere um item em uma posição específica"
   ],
   "id": "838327f4609d4cca"
  },
  {
   "metadata": {
    "ExecuteTime": {
     "end_time": "2025-04-05T18:12:21.896460Z",
     "start_time": "2025-04-05T18:12:21.891492Z"
    }
   },
   "cell_type": "code",
   "source": [
    "lista_de_orgaos.insert(12, \"Unhas\")\n",
    "\n",
    "print(lista_de_orgaos)"
   ],
   "id": "7d3dffa501eb3351",
   "outputs": [
    {
     "name": "stdout",
     "output_type": "stream",
     "text": [
      "['Coração', 'Rins', 'Fígado', 'Pulmões', 'Intestino', 'Córneas', 'Pele', 'Ossos', 'Válvulas cardíacas', 'Cartilagem', 'Medula Óssea', 'Tendões', 'Unhas', 'Unhas', 'Vasos Sanguíneos', 'Sangue de Cordão Umbilical', 'Sangue Universal']\n"
     ]
    }
   ],
   "execution_count": 14
  }
 ],
 "metadata": {
  "kernelspec": {
   "display_name": "Python 3",
   "language": "python",
   "name": "python3"
  },
  "language_info": {
   "codemirror_mode": {
    "name": "ipython",
    "version": 2
   },
   "file_extension": ".py",
   "mimetype": "text/x-python",
   "name": "python",
   "nbconvert_exporter": "python",
   "pygments_lexer": "ipython2",
   "version": "2.7.6"
  }
 },
 "nbformat": 4,
 "nbformat_minor": 5
}
