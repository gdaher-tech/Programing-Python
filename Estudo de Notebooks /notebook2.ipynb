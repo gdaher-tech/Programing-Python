{
 "cells": [
  {
   "metadata": {},
   "cell_type": "markdown",
   "source": [
    "# Estudo do notebook 2\n",
    "- Variáveis e entrada de dados."
   ],
   "id": "3e9e6c5f9ff43063"
  },
  {
   "metadata": {},
   "cell_type": "markdown",
   "source": "## Variáveis e entrada de dados",
   "id": "e4c055430ac26d0c"
  },
  {
   "metadata": {},
   "cell_type": "markdown",
   "source": [
    "### 1. Variáveis\n",
    "- Nome que armazena um valor na memória\n",
    "- Você cria variáveis com o operador de atribuição"
   ],
   "id": "21d48a14543322ea"
  },
  {
   "metadata": {
    "ExecuteTime": {
     "end_time": "2025-04-02T16:36:50.847397Z",
     "start_time": "2025-04-02T16:36:50.840127Z"
    }
   },
   "cell_type": "code",
   "source": [
    "nome = 'Gustavo' # Variável nome que armazena o valor \"Gustavo\"\n",
    "idade = 21 # Variável idade que armazena o valor \"21\"\n",
    "\n",
    "# Imprimindo o tipo de cada variável\n",
    "print(type(nome))\n",
    "print(type(idade))"
   ],
   "id": "faf2752265c6a94c",
   "outputs": [
    {
     "name": "stdout",
     "output_type": "stream",
     "text": [
      "<class 'str'>\n",
      "<class 'int'>\n"
     ]
    }
   ],
   "execution_count": 4
  },
  {
   "metadata": {},
   "cell_type": "markdown",
   "source": "- O tipo da variável é definido automaticamente (tipagem dinâmica)",
   "id": "fe3f1b59d8db14f7"
  },
  {
   "metadata": {},
   "cell_type": "markdown",
   "source": [
    "### 2. Entrada de dados com input()\n",
    "- input() pausa o programa e espera o usuário digitar algo\n",
    "- O valor digitado sempre será string, caso o seu tipo nao seja definifo antes."
   ],
   "id": "e565e19600ec395d"
  },
  {
   "metadata": {
    "ExecuteTime": {
     "end_time": "2025-04-02T16:38:17.098707Z",
     "start_time": "2025-04-02T16:38:11.681256Z"
    }
   },
   "cell_type": "code",
   "source": [
    "nome = input(\"Digite seu nome: \") # Solicitando ao usuário o nome dele.\n",
    "idade = input(\"Digite sua idade: \") # Solicitando ao usuário a idade dele."
   ],
   "id": "ebf9373331f23c4b",
   "outputs": [],
   "execution_count": 5
  },
  {
   "metadata": {},
   "cell_type": "markdown",
   "source": [
    "### 3. Conversão de tipos (Casting)\n",
    "- Para transformar uma string em números"
   ],
   "id": "4a58b7407c3fcb9a"
  },
  {
   "metadata": {
    "ExecuteTime": {
     "end_time": "2025-04-02T16:48:03.505725Z",
     "start_time": "2025-04-02T16:47:54.139565Z"
    }
   },
   "cell_type": "code",
   "source": [
    "peso = float(input(\"Informe o seu peso: \"))\n",
    "idade2 = int(input(\"Informe sua idade: \"))"
   ],
   "id": "fe80ce006e0086ce",
   "outputs": [],
   "execution_count": 7
  },
  {
   "metadata": {},
   "cell_type": "markdown",
   "source": [
    "### 4. Concatenação de Strings\n",
    "- Utilizando +"
   ],
   "id": "6bff45217edf7a1b"
  },
  {
   "metadata": {
    "ExecuteTime": {
     "end_time": "2025-04-02T16:48:33.217249Z",
     "start_time": "2025-04-02T16:48:33.210681Z"
    }
   },
   "cell_type": "code",
   "source": "print('Olá ' + nome + '!')",
   "id": "9e80c86d1216603b",
   "outputs": [
    {
     "name": "stdout",
     "output_type": "stream",
     "text": [
      "Olá Gustavo!\n"
     ]
    }
   ],
   "execution_count": 9
  },
  {
   "metadata": {},
   "cell_type": "markdown",
   "source": "- Utilizando o f-string (forma moderna e limpa)",
   "id": "ab7825a9d2a23635"
  },
  {
   "metadata": {
    "ExecuteTime": {
     "end_time": "2025-04-02T16:49:50.844785Z",
     "start_time": "2025-04-02T16:49:50.841350Z"
    }
   },
   "cell_type": "code",
   "source": "print(f'Olá {nome}!')",
   "id": "a69192a25f2f9bcf",
   "outputs": [
    {
     "name": "stdout",
     "output_type": "stream",
     "text": [
      "Olá Gustavo!\n"
     ]
    }
   ],
   "execution_count": 12
  },
  {
   "metadata": {},
   "cell_type": "markdown",
   "source": "### 5. Tratamento de Erro\n",
   "id": "55dc077d0024ffa0"
  },
  {
   "metadata": {
    "ExecuteTime": {
     "end_time": "2025-04-02T17:27:08.297187Z",
     "start_time": "2025-04-02T17:27:05.756140Z"
    }
   },
   "cell_type": "code",
   "source": [
    "try:\n",
    "    idade = int(input('Digite sua idade: '))\n",
    "except ValueError:\n",
    "    print(\"Por favor, digite apenas números\")"
   ],
   "id": "c035c2ffea22de5",
   "outputs": [],
   "execution_count": 21
  }
 ],
 "metadata": {
  "kernelspec": {
   "display_name": "Python 3",
   "language": "python",
   "name": "python3"
  },
  "language_info": {
   "codemirror_mode": {
    "name": "ipython",
    "version": 2
   },
   "file_extension": ".py",
   "mimetype": "text/x-python",
   "name": "python",
   "nbconvert_exporter": "python",
   "pygments_lexer": "ipython2",
   "version": "2.7.6"
  }
 },
 "nbformat": 4,
 "nbformat_minor": 5
}
