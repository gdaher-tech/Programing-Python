{
 "cells": [
  {
   "cell_type": "markdown",
   "metadata": {},
   "source": [
    "# Estudo do Primeiro notebook da matéria de Python. "
   ]
  },
  {
   "cell_type": "code",
   "metadata": {
    "ExecuteTime": {
     "end_time": "2025-03-30T17:46:37.787743Z",
     "start_time": "2025-03-30T17:46:37.782750Z"
    }
   },
   "source": [
    "print('Isto é uma string')"
   ],
   "outputs": [
    {
     "name": "stdout",
     "output_type": "stream",
     "text": [
      "Isto é uma string\n"
     ]
    }
   ],
   "execution_count": 1
  },
  {
   "metadata": {
    "ExecuteTime": {
     "end_time": "2025-03-30T17:47:18.836351Z",
     "start_time": "2025-03-30T17:47:18.830080Z"
    }
   },
   "cell_type": "code",
   "source": "'Tudo o que é escrito dentro de aspas é uma string'",
   "outputs": [
    {
     "data": {
      "text/plain": [
       "'Tudo o que é escrito dentro de aspas é uma string'"
      ]
     },
     "execution_count": 2,
     "metadata": {},
     "output_type": "execute_result"
    }
   ],
   "execution_count": 2
  },
  {
   "metadata": {},
   "cell_type": "markdown",
   "source": [
    "## Variável\n",
    "- Uma variável tem o objetivo de armazenar um valor.\n"
   ]
  },
  {
   "metadata": {
    "ExecuteTime": {
     "end_time": "2025-03-30T17:49:37.762085Z",
     "start_time": "2025-03-30T17:49:37.758887Z"
    }
   },
   "cell_type": "code",
   "source": [
    "numero1 = 10\n",
    "print(numero1)\n",
    "\n",
    "frase = 'isto é uma frase, em formato de string'\n",
    "print(frase)"
   ],
   "outputs": [
    {
     "name": "stdout",
     "output_type": "stream",
     "text": [
      "10\n",
      "isto é uma frase, em formato de string\n"
     ]
    }
   ],
   "execution_count": 5
  },
  {
   "metadata": {},
   "cell_type": "markdown",
   "source": [
    "## Função type()\n",
    "- Retorna o tipo da variável que é passada como argumento."
   ]
  },
  {
   "metadata": {
    "ExecuteTime": {
     "end_time": "2025-03-30T17:55:12.632475Z",
     "start_time": "2025-03-30T17:55:12.627013Z"
    }
   },
   "cell_type": "code",
   "source": [
    "citacao = \"Albert Eisntein uma vez disse: \\n 'A imaginação é mais importante que o conhecimento. '\"\n",
    "print(citacao)\n",
    "\n",
    "print(type(citacao))"
   ],
   "outputs": [
    {
     "name": "stdout",
     "output_type": "stream",
     "text": [
      "Albert Eisntein uma vez disse: \n",
      " 'A imaginação é mais importante que o conhecimento. '\n",
      "<class 'str'>\n"
     ]
    }
   ],
   "execution_count": 11
  },
  {
   "metadata": {},
   "cell_type": "markdown",
   "source": "- <class 'str'> indica que o tipo da variável citação é string."
  },
  {
   "metadata": {},
   "cell_type": "markdown",
   "source": [
    "## Strings Multilinhas\n",
    "- Caso precisemos escrever textos com mais de uma linha."
   ]
  },
  {
   "metadata": {
    "ExecuteTime": {
     "end_time": "2025-03-30T17:59:58.274686Z",
     "start_time": "2025-03-30T17:59:58.268301Z"
    }
   },
   "cell_type": "code",
   "source": [
    "strings_multilinhas = '''Este texto pode ser considerado uma string, e pelo motivo de ter\n",
    "mais de uma única linha a sua definição passa a ser\n",
    "uma string multilinha. '''\n",
    "\n",
    "print(strings_multilinhas)"
   ],
   "outputs": [
    {
     "name": "stdout",
     "output_type": "stream",
     "text": [
      "Este texto pode ser considerado uma string, e pelo motivo de ter\n",
      "mais de uma única linha a sua definição passa a ser\n",
      "uma string multilinha. \n"
     ]
    }
   ],
   "execution_count": 13
  },
  {
   "metadata": {},
   "cell_type": "markdown",
   "source": "## Strings Methods"
  },
  {
   "metadata": {},
   "cell_type": "markdown",
   "source": "### A função len() é utilizada para obter o cumprimento de um objeto em python, retornando o número de itens."
  },
  {
   "metadata": {
    "ExecuteTime": {
     "end_time": "2025-03-30T18:04:36.889939Z",
     "start_time": "2025-03-30T18:04:36.886417Z"
    }
   },
   "cell_type": "code",
   "source": [
    "string1 = 'Isso não passa de uma string'\n",
    "print(len(string1))"
   ],
   "outputs": [
    {
     "name": "stdout",
     "output_type": "stream",
     "text": [
      "28\n"
     ]
    }
   ],
   "execution_count": 16
  },
  {
   "metadata": {},
   "cell_type": "markdown",
   "source": "- O programa restornou 28 pois este número é a quantidade de caracteres da variável string1"
  },
  {
   "metadata": {},
   "cell_type": "markdown",
   "source": "### A função str.find() é usada para encontrar a posição de uma string dentro de uma substring"
  },
  {
   "metadata": {
    "ExecuteTime": {
     "end_time": "2025-03-30T18:09:48.302585Z",
     "start_time": "2025-03-30T18:09:48.295117Z"
    }
   },
   "cell_type": "code",
   "source": [
    "## Localiza o índice inicial do trecho desejado\n",
    "indice_inicial_string1 = string1.find(\"passa\")\n",
    "print(indice_inicial_string1)"
   ],
   "outputs": [
    {
     "name": "stdout",
     "output_type": "stream",
     "text": [
      "9\n"
     ]
    }
   ],
   "execution_count": 18
  },
  {
   "metadata": {},
   "cell_type": "markdown",
   "source": "- A primeira string da palavra 'passa' na variável se encontra na posição 9."
  },
  {
   "metadata": {},
   "cell_type": "code",
   "outputs": [],
   "execution_count": null,
   "source": ""
  }
 ],
 "metadata": {
  "kernelspec": {
   "display_name": "Python 3",
   "language": "python",
   "name": "python3"
  },
  "language_info": {
   "name": "python",
   "version": "3.13.2"
  }
 },
 "nbformat": 4,
 "nbformat_minor": 2
}
