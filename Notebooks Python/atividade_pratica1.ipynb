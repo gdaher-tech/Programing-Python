{
 "cells": [
  {
   "metadata": {},
   "cell_type": "markdown",
   "source": [
    "# Menu Principal do SNDO (Sistema Nacional de Doação de Órgãos e Tecidos)\n",
    "\n",
    "1. Crie o menu principal do SNDO (Sistema Nacional de Doação de Órgãos e Tecidos) com as seguintes opções:\n",
    "\n",
    "## Opções do Menu\n",
    "\n",
    "1. **Cadastrar Potencial Doador**\n",
    "\n",
    "2. **Adicionar Doação**\n",
    "\n",
    "3. **Processar Doação (Encaminhar para Transplante)**\n",
    "\n",
    "4. **Exibir Estoque Atual dos Centros de Distribuição**\n",
    "\n",
    "5. **Exibir Histórico de Doações**\n",
    "\n",
    "6. **Finalizar Aplicação**\n",
    "\n",
    "## Fluxo do Sistema\n",
    "\n",
    "O usuário poderá escolher uma das opções acima, e o sistema executará a ação correspondente.\n"
   ],
   "id": "75794dbb05173396"
  },
  {
   "cell_type": "code",
   "id": "initial_id",
   "metadata": {
    "collapsed": true,
    "ExecuteTime": {
     "end_time": "2025-03-16T22:01:03.798335Z",
     "start_time": "2025-03-16T22:01:03.793504Z"
    }
   },
   "source": [
    "print(\"--- SISTEMA NACIONAL DE DOACAO DE ORGÃOS E TECIDOS ----\")\n",
    "print(\"                     Menu Principal \")\n",
    "\n",
    "print(\"1. Cadastrar Potencial Doador \\n\"\n",
    "      \"2. Adicionar Doaçãao \\n\"\n",
    "      \"3. Processar Doação\\n\"\n",
    "      \"4. Exibir Estoque Atual dos Centros de Distribuição\\n\"\n",
    "      \"5. Exibir Histórico de Doações\\n\"\n",
    "      \"6. Finalizar Aplicaçãao\\n\")"
   ],
   "outputs": [
    {
     "name": "stdout",
     "output_type": "stream",
     "text": [
      "--- SISTEMA NACIONAL DE DOACAO DE ORGÃOS E TECIDOS ----\n",
      "                     Menu Principal \n",
      "1. Cadastrar Potencial Doador \n",
      "2. Adicionar Doaçãao \n",
      "3. Processar Doação\n",
      "4. Exibir Estoque Atual dos Centros de Distribuição\n",
      "5. Exibir Histórico de Doações\n",
      "6. Finalizar Aplicaçãao\n",
      "\n"
     ]
    }
   ],
   "execution_count": 1
  }
 ],
 "metadata": {
  "kernelspec": {
   "display_name": "Python 3",
   "language": "python",
   "name": "python3"
  },
  "language_info": {
   "codemirror_mode": {
    "name": "ipython",
    "version": 2
   },
   "file_extension": ".py",
   "mimetype": "text/x-python",
   "name": "python",
   "nbconvert_exporter": "python",
   "pygments_lexer": "ipython2",
   "version": "2.7.6"
  }
 },
 "nbformat": 4,
 "nbformat_minor": 5
}
