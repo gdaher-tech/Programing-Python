{
 "cells": [
  {
   "cell_type": "code",
   "id": "initial_id",
   "metadata": {
    "collapsed": true,
    "ExecuteTime": {
     "end_time": "2025-03-16T23:20:40.578331Z",
     "start_time": "2025-03-16T23:20:40.573167Z"
    }
   },
   "source": [
    "# Listas de órgãos e seus respectivos tipos\n",
    "orgaos = [\"Coração\", \"Rins\", \"Fígado\", \"Pâncreas\", \"Pulmões\", \"Intestino\", \"Pele\", \"Ossos\",\n",
    "          \"Válvulas cardíacas\", \"Cartilagem\", \"Medula Óssea\", \"Tendões\", \"Vasos Sanguíneos\",\n",
    "          \"Sangue de Cordão Umbilical\", \"Sangue Universal\"]\n",
    "tipos = [\"Órgão\", \"Órgão\", \"Órgão\", \"Órgão\", \"Órgão\", \"Órgão\", \"Tecido\", \"Tecido\", \"Órgão\",\n",
    "         \"Tecido\", \"Órgão\", \"Tecido\", \"Tecido\", \"Sangue\", \"Sangue\"]\n",
    "\n",
    "# Imprime cada órgão com seu tipo\n",
    "for i in range(len(orgaos)):\n",
    "    print(f\"[{i}]: \\\"{orgaos[i]}\\\" é do tipo \\\"{tipos[i]}\\\"\")\n",
    "\n",
    "print(\"\\n\")\n",
    "\n",
    "# Realiza a mesma impressão usando enumerate\n",
    "for i, orgao in enumerate(orgaos):\n",
    "    print(f\"[{i}]: \\\"{orgao}\\\" é do tipo \\\"{tipos[i]}\\\"\")\n"
   ],
   "outputs": [
    {
     "name": "stdout",
     "output_type": "stream",
     "text": [
      "[0]: \"Coração\" é do tipo \"Órgão\"\n",
      "[1]: \"Rins\" é do tipo \"Órgão\"\n",
      "[2]: \"Fígado\" é do tipo \"Órgão\"\n",
      "[3]: \"Pâncreas\" é do tipo \"Órgão\"\n",
      "[4]: \"Pulmões\" é do tipo \"Órgão\"\n",
      "[5]: \"Intestino\" é do tipo \"Órgão\"\n",
      "[6]: \"Pele\" é do tipo \"Tecido\"\n",
      "[7]: \"Ossos\" é do tipo \"Tecido\"\n",
      "[8]: \"Válvulas cardíacas\" é do tipo \"Órgão\"\n",
      "[9]: \"Cartilagem\" é do tipo \"Tecido\"\n",
      "[10]: \"Medula Óssea\" é do tipo \"Órgão\"\n",
      "[11]: \"Tendões\" é do tipo \"Tecido\"\n",
      "[12]: \"Vasos Sanguíneos\" é do tipo \"Tecido\"\n",
      "[13]: \"Sangue de Cordão Umbilical\" é do tipo \"Sangue\"\n",
      "[14]: \"Sangue Universal\" é do tipo \"Sangue\"\n",
      "\n",
      "\n",
      "[0]: \"Coração\" é do tipo \"Órgão\"\n",
      "[1]: \"Rins\" é do tipo \"Órgão\"\n",
      "[2]: \"Fígado\" é do tipo \"Órgão\"\n",
      "[3]: \"Pâncreas\" é do tipo \"Órgão\"\n",
      "[4]: \"Pulmões\" é do tipo \"Órgão\"\n",
      "[5]: \"Intestino\" é do tipo \"Órgão\"\n",
      "[6]: \"Pele\" é do tipo \"Tecido\"\n",
      "[7]: \"Ossos\" é do tipo \"Tecido\"\n",
      "[8]: \"Válvulas cardíacas\" é do tipo \"Órgão\"\n",
      "[9]: \"Cartilagem\" é do tipo \"Tecido\"\n",
      "[10]: \"Medula Óssea\" é do tipo \"Órgão\"\n",
      "[11]: \"Tendões\" é do tipo \"Tecido\"\n",
      "[12]: \"Vasos Sanguíneos\" é do tipo \"Tecido\"\n",
      "[13]: \"Sangue de Cordão Umbilical\" é do tipo \"Sangue\"\n",
      "[14]: \"Sangue Universal\" é do tipo \"Sangue\"\n"
     ]
    }
   ],
   "execution_count": 1
  }
 ],
 "metadata": {
  "kernelspec": {
   "display_name": "Python 3",
   "language": "python",
   "name": "python3"
  },
  "language_info": {
   "codemirror_mode": {
    "name": "ipython",
    "version": 2
   },
   "file_extension": ".py",
   "mimetype": "text/x-python",
   "name": "python",
   "nbconvert_exporter": "python",
   "pygments_lexer": "ipython2",
   "version": "2.7.6"
  }
 },
 "nbformat": 4,
 "nbformat_minor": 5
}
