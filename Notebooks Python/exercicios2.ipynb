{
 "cells": [
  {
   "metadata": {},
   "cell_type": "markdown",
   "source": [
    "# Atividade Prática\n",
    "\n",
    "## Formulário de Cadastro de Potenciais Doadores\n",
    "\n",
    "### **Dados Pessoais**\n",
    "- Nome\n",
    "- Idade\n",
    "- Sexo\n",
    "- Data de Nascimento\n",
    "- Estado de Nascimento\n",
    "- CPF\n",
    "- Estado Civil\n",
    "- Cidade/Estado de Nascimento\n",
    "- Profissão\n",
    "- Tipo Sanguíneo\n",
    "\n",
    "---\n",
    "\n",
    "### **Contato**\n",
    "- Telefone\n",
    "- Email\n",
    "\n",
    "---\n",
    "\n",
    "### **Endereço Atual**\n",
    "- Rua\n",
    "- Número\n",
    "- Cidade\n",
    "- Estado\n",
    "- CEP\n",
    "- Complemento\n"
   ],
   "id": "8eb80df978f73f79"
  },
  {
   "cell_type": "code",
   "id": "initial_id",
   "metadata": {
    "collapsed": true,
    "ExecuteTime": {
     "end_time": "2025-03-15T17:09:37.562380Z",
     "start_time": "2025-03-15T17:09:37.559294Z"
    }
   },
   "source": "# Saudacoes ao Formulário",
   "outputs": [],
   "execution_count": 1
  },
  {
   "metadata": {
    "ExecuteTime": {
     "end_time": "2025-03-15T17:15:28.489906Z",
     "start_time": "2025-03-15T17:15:28.481464Z"
    }
   },
   "cell_type": "code",
   "source": [
    "print(\"--                   FORMULÁRIO DE CADASTRO DE POTENCIAL DOADORES                    --\\n\")\n",
    "print(\"DADOS PESSOAIS \")\n",
    "print(\"______________\\n\")\n",
    "\n"
   ],
   "id": "b8f61690f6a2264",
   "outputs": [
    {
     "name": "stdout",
     "output_type": "stream",
     "text": [
      "--                   FORMULÁRIO DE CADASTRO DE POTENCIAL DOADORES                    --\n",
      "\n",
      "DADOS PESSOAIS \n",
      "______________\n",
      "\n"
     ]
    }
   ],
   "execution_count": 14
  },
  {
   "metadata": {
    "ExecuteTime": {
     "end_time": "2025-03-16T15:56:33.464012Z",
     "start_time": "2025-03-16T15:56:29.191623Z"
    }
   },
   "cell_type": "code",
   "source": [
    "# Validacao e captura de nome\n",
    "\n",
    "def validar_nome (nome):\n",
    "    return nome.replace(' ', '').isalpha()\n",
    "\n",
    "while True:\n",
    "    nome = input(\"Digite o seu primeiro nome : \\n\")\n",
    "    if validar_nome(nome):\n",
    "        print(\"Nome cadastrado com sucesso\")\n",
    "        break\n",
    "    else:\n",
    "        print(\"Nome inválido. Por favor insira um nome Válido\")\n"
   ],
   "id": "1bdc5a0a01314454",
   "outputs": [
    {
     "name": "stdout",
     "output_type": "stream",
     "text": [
      "Nome cadastrado com sucesso\n"
     ]
    }
   ],
   "execution_count": 42
  },
  {
   "metadata": {
    "ExecuteTime": {
     "end_time": "2025-03-16T16:02:49.639465Z",
     "start_time": "2025-03-16T16:02:44.882431Z"
    }
   },
   "cell_type": "code",
   "source": [
    "# Validacao e captura de idade\n",
    "\n",
    "def validar_idade(idade):\n",
    "    return idade.isdigit() and  18 <= int(idade) <= 60\n",
    "\n",
    "\n",
    "while True:\n",
    "    idade = input(\"Digite a sua idade: \")\n",
    "\n",
    "    if validar_idade(idade):\n",
    "        print(\"Idade Cadastrada com sucesso\")\n",
    "        break\n",
    "\n",
    "    else:\n",
    "        print(\"Idade inválida. Insira novamente\")"
   ],
   "id": "b007eff1c99d171f",
   "outputs": [
    {
     "name": "stdout",
     "output_type": "stream",
     "text": [
      "Idade Cadastrada com sucesso\n"
     ]
    }
   ],
   "execution_count": 46
  },
  {
   "metadata": {
    "ExecuteTime": {
     "end_time": "2025-03-16T16:08:17.742260Z",
     "start_time": "2025-03-16T16:08:15.315918Z"
    }
   },
   "cell_type": "code",
   "source": [
    "#  Validacao e Captura de Sexo\n",
    "\n",
    "def validar_sexo (sexo):\n",
    "    return sexo.isalpha() and sexo in(\"M\", \"F\")\n",
    "\n",
    "while True:\n",
    "    sexo = input(\"Insira seu sexo (M/F): \").upper()\n",
    "\n",
    "    if validar_sexo(sexo):\n",
    "        print(\"Sexo cadastrado com sucesso\")\n",
    "        break\n",
    "    else:\n",
    "        print(\"Sexo inválido. Por favor insira M ou F\")\n"
   ],
   "id": "c9f9e50cf59a7e45",
   "outputs": [
    {
     "name": "stdout",
     "output_type": "stream",
     "text": [
      "Sexo cadastrado com sucesso\n"
     ]
    }
   ],
   "execution_count": 49
  },
  {
   "metadata": {
    "ExecuteTime": {
     "end_time": "2025-03-16T16:26:15.909239Z",
     "start_time": "2025-03-16T16:26:08.110852Z"
    }
   },
   "cell_type": "code",
   "source": [
    "# Validacao e captura de data de nascimento\n",
    "\n",
    "from datetime import datetime\n",
    "\n",
    "def validar_data(data):\n",
    "    data = data.replace(\" \", \"/\")\n",
    "\n",
    "    try:\n",
    "        datetime.strptime(data, \"%d/%m/%Y\")\n",
    "        return True\n",
    "    except ValueError:\n",
    "        return False\n",
    "\n",
    "while True:\n",
    "    data_nasc = input(\"Usando espaços (14 08 2003) \\n Insira a sua data de nascimento (DD/MM/YYYY): \")\n",
    "\n",
    "    if validar_data(data_nasc):\n",
    "        print(\"Data de nascimento cadastrada com sucesso\")\n",
    "        break\n",
    "\n",
    "    else:\n",
    "        print(\"Data no formato inválido. Insira novamente\")\n"
   ],
   "id": "987cfa815b1c938",
   "outputs": [
    {
     "name": "stdout",
     "output_type": "stream",
     "text": [
      "Data de nascimento cadastrada com sucesso\n"
     ]
    }
   ],
   "execution_count": 53
  },
  {
   "metadata": {
    "ExecuteTime": {
     "end_time": "2025-03-16T17:15:51.872566Z",
     "start_time": "2025-03-16T17:15:43.340011Z"
    }
   },
   "cell_type": "code",
   "source": [
    "# Validacao e captura de Estado de Nascimento\n",
    "\n",
    "estados_sem_acento = [\n",
    "    \"ACRE\", \"ALAGOAS\", \"AMAPA\", \"AMAZONAS\", \"BAHIA\", \"CEARA\", \"DISTRITO FEDERAL\",\n",
    "    \"ESPIRITO SANTO\", \"GOIAS\", \"MARANHAO\", \"MATO GROSSO\", \"MATO GROSSO DO SUL\",\n",
    "    \"MINAS GERAIS\", \"PARA\", \"PARAIBA\", \"PARANA\", \"PERNAMBUCO\", \"PIAUI\",\n",
    "    \"RIO DE JANEIRO\", \"RIO GRANDE DO NORTE\", \"RIO GRANDE DO SUL\",\n",
    "    \"RONDONIA\", \"RORAIMA\", \"SANTA CATARINA\", \"SAO PAULO\", \"SERGIPE\", \"TOCANTINS\"\n",
    "]\n",
    "\n",
    "\n",
    "def validar_estado(estado):\n",
    "    return estado in estados_sem_acento\n",
    "\n",
    "while True:\n",
    "    estado_nasc = input(\"Insira o seu estado de nascimento (RIO DE JANEIRO) \\n  NÃO UTILIZE ASSENTOS  \\n Estado de Nascimento: \").upper()\n",
    "\n",
    "    if validar_estado(estado_nasc):\n",
    "        print(\"Estado cadastrado com sucesso\")\n",
    "        break\n",
    "    else:\n",
    "        print(\"Estado inválido. Insira novamente\")\n"
   ],
   "id": "83a3e7729d087866",
   "outputs": [
    {
     "name": "stdout",
     "output_type": "stream",
     "text": [
      "Estado inválido. Insira novamente\n",
      "Estado cadastrado com sucesso\n"
     ]
    }
   ],
   "execution_count": 70
  },
  {
   "metadata": {
    "ExecuteTime": {
     "end_time": "2025-03-16T17:11:11.280457Z",
     "start_time": "2025-03-16T17:10:43.406260Z"
    }
   },
   "cell_type": "code",
   "source": [
    "#Validacao e captura de CPF\n",
    "\n",
    "def validar_cpf (cpf):\n",
    "    cpf = cpf.replace('.', '').replace('-', '').replace(' ', '')\n",
    "\n",
    "    # Verificar se o cpf tem 11 digitos\n",
    "    if len(cpf) != 11 or not cpf.isnumeric() or cpf == cpf[0] * 11:\n",
    "        return False\n",
    "    else:\n",
    "        return True\n",
    "\n",
    "while True:\n",
    "    cpf = input(\"Insira o CPF (000.000.000.00): \").upper()\n",
    "\n",
    "    if validar_cpf(cpf):\n",
    "        print(\"CPF cadastrada com sucesso\")\n",
    "        break\n",
    "    else:\n",
    "        print(\"CPF inválido. Insira novamente\")\n",
    "\n",
    "\n",
    "\n"
   ],
   "id": "f986ede7150e6af6",
   "outputs": [
    {
     "name": "stdout",
     "output_type": "stream",
     "text": [
      "CPF inválido. Insira novamente\n",
      "CPF inválido. Insira novamente\n",
      "CPF cadastrada com sucesso\n"
     ]
    }
   ],
   "execution_count": 69
  },
  {
   "metadata": {
    "ExecuteTime": {
     "end_time": "2025-03-16T17:30:26.000929Z",
     "start_time": "2025-03-16T17:30:22.143738Z"
    }
   },
   "cell_type": "code",
   "source": [
    "# Validacao e captura de Estado Civil\n",
    "\n",
    "estados_civis = [\"SOLTEIRO\", \"CASADO\", \"DIVORCIADO\", \"VIUVO\", \"SEPARADO\", \"SEPARADO JUDICIALMENTE\", \"UNIAO ESTAVEL\", \"UNIAO\"]\n",
    "\n",
    "def validar_estado_civil (estado_civil):\n",
    "    return estado_civil in estados_civis\n",
    "\n",
    "while True:\n",
    "    estado_civil = input(\"Insira o estado civil: \").upper()\n",
    "\n",
    "    if not estado_civil.isalpha():\n",
    "        print(\"O estado civil deve conter apenas letras. Insira novamente\")\n",
    "        continue\n",
    "\n",
    "    if validar_estado_civil(estado_civil):\n",
    "        print(\"Estado Civil cadastrado com sucesso\")\n",
    "        break\n",
    "\n",
    "    else:\n",
    "        print(\"Estado civil incorreto. Insira novamente\")\n"
   ],
   "id": "4a6fab94231069c5",
   "outputs": [
    {
     "name": "stdout",
     "output_type": "stream",
     "text": [
      "Estado Civil cadastrado com sucesso\n"
     ]
    }
   ],
   "execution_count": 79
  },
  {
   "metadata": {
    "ExecuteTime": {
     "end_time": "2025-03-16T17:35:45.094533Z",
     "start_time": "2025-03-16T17:35:40.609096Z"
    }
   },
   "cell_type": "code",
   "source": [
    "# Validacao e captura de Cidade de nascimento\n",
    "\n",
    "def validar_cidade_nascimento(cidade_nascimento):\n",
    "    if cidade_nascimento.isalpha():\n",
    "        return True\n",
    "    else:\n",
    "        return False\n",
    "\n",
    "while True:\n",
    "    cidade_nascimento = input(\"Insira a cidade de nascimento: \").upper()\n",
    "\n",
    "    if validar_cidade_nascimento(cidade_nascimento):\n",
    "        print(\"Cidade cadastrada com sucesso\")\n",
    "        break\n",
    "\n",
    "    else:\n",
    "        print(\"A cidade deve conter apenas letras. Insira novamente\")\n",
    "\n"
   ],
   "id": "645469c38f4f538",
   "outputs": [
    {
     "name": "stdout",
     "output_type": "stream",
     "text": [
      "Cidade cadastrada com sucesso\n"
     ]
    }
   ],
   "execution_count": 83
  },
  {
   "metadata": {
    "ExecuteTime": {
     "end_time": "2025-03-16T17:40:22.942652Z",
     "start_time": "2025-03-16T17:40:15.577248Z"
    }
   },
   "cell_type": "code",
   "source": [
    "# Validacao e captura de Profissao\n",
    "\n",
    "def validar_profissao(profissao):\n",
    "    if profissao.isalpha():\n",
    "        return True\n",
    "    else:\n",
    "        return False\n",
    "\n",
    "while True:\n",
    "    profissao = input(\"Insira a profissao: \").upper()\n",
    "\n",
    "    if validar_profissao(profissao):\n",
    "        print(\"Profissao cadastrada com sucesso\")\n",
    "        break\n",
    "    else:\n",
    "        print(\"A profissao deve conter apenas letras. Insira novamente\")"
   ],
   "id": "a4a538948d2d00df",
   "outputs": [
    {
     "name": "stdout",
     "output_type": "stream",
     "text": [
      "Profissao cadastrada com sucesso\n"
     ]
    }
   ],
   "execution_count": 87
  },
  {
   "metadata": {
    "ExecuteTime": {
     "end_time": "2025-03-16T20:36:51.023658Z",
     "start_time": "2025-03-16T20:36:45.184744Z"
    }
   },
   "cell_type": "code",
   "source": [
    "# Validacao e captura de Tipo Sanguíneo\n",
    "\n",
    "tipos_sanguineos_lista  = [\"A+\", \"A-\", \"B+\", \"B-\", \"AB+\", \"AB-\", \"O+\", \"O-\"]\n",
    "\n",
    "def validar_tipo_sanguineo(tipo_snaguineo):\n",
    "    return tipo_snaguineo in tipos_sanguineos_lista\n",
    "\n",
    "while True:\n",
    "    tipo_sanguineo = input(\"Insira o tipo de sanguíneo: \").upper()\n",
    "\n",
    "    if validar_tipo_sanguineo(tipo_sanguineo):\n",
    "        print(\"Tipo Sangíneo cadastrada com sucesso\")\n",
    "        break\n",
    "\n",
    "    else:\n",
    "        print(\"Tipo sanguíneo incorreto. Insira novamente\")\n",
    "\n",
    "\n"
   ],
   "id": "e7116a4589941068",
   "outputs": [
    {
     "name": "stdout",
     "output_type": "stream",
     "text": [
      "Tipo Sangíneo cadastrada com sucesso\n"
     ]
    }
   ],
   "execution_count": 91
  },
  {
   "metadata": {
    "ExecuteTime": {
     "end_time": "2025-03-16T20:41:39.355560Z",
     "start_time": "2025-03-16T20:41:39.350584Z"
    }
   },
   "cell_type": "code",
   "source": [
    "print(\"CONTATO \")\n",
    "print(\"______________\\n\")\n",
    "#Telefone e e-mail"
   ],
   "id": "fdcf26104cef6b6d",
   "outputs": [
    {
     "name": "stdout",
     "output_type": "stream",
     "text": [
      "CONTATO \n",
      "______________\n",
      "\n"
     ]
    }
   ],
   "execution_count": 94
  },
  {
   "metadata": {
    "ExecuteTime": {
     "end_time": "2025-03-16T20:49:22.030864Z",
     "start_time": "2025-03-16T20:49:13.664576Z"
    }
   },
   "cell_type": "code",
   "source": [
    "# Validacao e captura de Telefone\n",
    "\n",
    "def validar_telefone(telefone):\n",
    "    telefone = telefone.replace(\" \", \"\").replace(\"-\", \"\")\n",
    "\n",
    "    return telefone.isdigit() and telefone.isnumeric() and len(telefone) in (10, 11)\n",
    "\n",
    "while True:\n",
    "    telefone = input(\"Insira o telefone: (62 9 9889-6252)\")\n",
    "\n",
    "    if validar_telefone(telefone):\n",
    "        print(\"Telefone cadastrado com sucesso\")\n",
    "        break\n",
    "\n",
    "    else:\n",
    "        print(\"Telefoe inválido. Insira novamente\")\n"
   ],
   "id": "f7ab54312e9df738",
   "outputs": [
    {
     "name": "stdout",
     "output_type": "stream",
     "text": [
      "Telefone cadastrado com sucesso\n"
     ]
    }
   ],
   "execution_count": 97
  },
  {
   "metadata": {
    "ExecuteTime": {
     "end_time": "2025-03-16T20:52:51.476563Z",
     "start_time": "2025-03-16T20:52:36.258156Z"
    }
   },
   "cell_type": "code",
   "source": [
    "# Validacao e captura de e-mail\n",
    "\n",
    "def validar_email(email):\n",
    "    return \"@\" in email and \".\" in email and \" \" not in email and email.index(\"@\") < email.rindex(\".\")\n",
    "\n",
    "while True:\n",
    "    email = input(\"Insira o e-mail: \").upper()\n",
    "\n",
    "    if validar_email(email):\n",
    "        print(\"E-mail cadastrado com sucesso\")\n",
    "        break\n",
    "    else:\n",
    "        print(\"E-mail Inválido. Tente novamente\")"
   ],
   "id": "9aa13ace0694502a",
   "outputs": [
    {
     "name": "stdout",
     "output_type": "stream",
     "text": [
      "E-mail Inválido. Tente novamente\n",
      "E-mail cadastrado com sucesso\n"
     ]
    }
   ],
   "execution_count": 101
  },
  {
   "metadata": {
    "ExecuteTime": {
     "end_time": "2025-03-16T21:02:36.152273Z",
     "start_time": "2025-03-16T21:02:09.565725Z"
    }
   },
   "cell_type": "code",
   "source": [
    "estados = [\n",
    "    \"AC\", \"AL\", \"AP\", \"AM\", \"BA\", \"CE\", \"DF\", \"ES\", \"GO\", \"MA\", \"MT\", \"MS\", \"MG\",\n",
    "    \"PA\", \"PB\", \"PR\", \"PE\", \"PI\", \"RJ\", \"RN\", \"RS\", \"RO\", \"RR\", \"SC\", \"SP\", \"SE\", \"TO\"\n",
    "]\n",
    "\n",
    "def validar_endereco(rua, numero, cidade, estado, cep, complemento=\"\"):\n",
    "    # Aceita números e letras na rua (ex: \"Rua 15\")\n",
    "    if not rua.replace(\" \", \"\").isalnum():\n",
    "        return False\n",
    "\n",
    "    # Cidade apenas letras\n",
    "    if not cidade.replace(\" \", \"\").isalpha():\n",
    "        return False\n",
    "\n",
    "    # Número apenas números\n",
    "    if not numero.isdigit():\n",
    "        return False\n",
    "\n",
    "    # Estado deve estar na lista de estados\n",
    "    if estado.upper() not in estados:\n",
    "        return False\n",
    "\n",
    "    # CEP deve ter 8 dígitos numéricos\n",
    "    if not (cep.isdigit() and len(cep) == 8):\n",
    "        return False\n",
    "\n",
    "    # Se tudo for válido, retorna True\n",
    "    return True\n",
    "\n",
    "# Captura e validação dos dados\n",
    "while True:\n",
    "    rua = input(\"Digite a rua: \").upper()\n",
    "    numero = input(\"Digite o número: \")\n",
    "    cidade = input(\"Digite a cidade: \").upper()\n",
    "    estado = input(\"Digite a sigla do estado (EX: SP, RJ, MG): \").upper()\n",
    "    cep = input(\"Digite o CEP (somente números): \")\n",
    "    complemento = input(\"Digite o complemento (opcional): \").upper()\n",
    "\n",
    "    if validar_endereco(rua, numero, cidade, estado, cep, complemento):\n",
    "        print(\"Endereço cadastrado com sucesso!\")\n",
    "        break\n",
    "    else:\n",
    "        print(\"Endereço inválido. Tente novamente.\")\n"
   ],
   "id": "44f5925a662bb5d7",
   "outputs": [
    {
     "name": "stdout",
     "output_type": "stream",
     "text": [
      "Endereço cadastrado com sucesso!\n"
     ]
    }
   ],
   "execution_count": 112
  }
 ],
 "metadata": {
  "kernelspec": {
   "display_name": "Python 3",
   "language": "python",
   "name": "python3"
  },
  "language_info": {
   "codemirror_mode": {
    "name": "ipython",
    "version": 2
   },
   "file_extension": ".py",
   "mimetype": "text/x-python",
   "name": "python",
   "nbconvert_exporter": "python",
   "pygments_lexer": "ipython2",
   "version": "2.7.6"
  }
 },
 "nbformat": 4,
 "nbformat_minor": 5
}
