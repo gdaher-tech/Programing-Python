{
 "cells": [
  {
   "metadata": {},
   "cell_type": "markdown",
   "source": [
    "# 5. Utilizando os métodos da classe e a partir da lista geral de órgãos, crie a seguinte lista de um potencial doador:\n",
    "\n",
    "Roberto: Rins, Fígado, Intestino, Medula Óssea\n",
    "\n"
   ],
   "id": "73343505143013d8"
  },
  {
   "metadata": {
    "ExecuteTime": {
     "end_time": "2025-03-16T22:39:06.682957Z",
     "start_time": "2025-03-16T22:39:06.678152Z"
    }
   },
   "cell_type": "code",
   "source": [
    "# Lista geral de órgãos\n",
    "lista_de_orgaos = [\n",
    "    \"Coração\", \"Rins\", \"Fígado\", \"Pâncreas\", \"Pulmões\", \"Intestino\",\n",
    "    \"Córneas\", \"Pele\", \"Ossos\", \"Válvulas cardíacas\", \"Cartilagem\", \"Medula Óssea\",\n",
    "    \"Tendões\", \"Vasos Sanguíneos\", \"Sangue de Cordão Umbilical\", \"Sangue Universal\"\n",
    "]\n",
    "\n",
    "# Lista específica de órgãos que Roberto pode doar\n",
    "orgaos_roberto = [\"Rins\", \"Fígado\", \"Intestino\", \"Medula Óssea\"]\n",
    "\n",
    "# Criando a lista do doador\n",
    "doador_roberto = {\n",
    "    \"Nome\": \"Roberto\",\n",
    "    \"Órgãos Disponíveis\": orgaos_roberto\n",
    "}\n",
    "\n",
    "# Exibindo as informações\n",
    "print(f\"Nome: {doador_roberto['Nome']}\")\n",
    "print(f\"Órgãos Disponíveis para Doação: {', '.join(doador_roberto['Órgãos Disponíveis'])}\")\n"
   ],
   "id": "c1fd94aff80773ea",
   "outputs": [
    {
     "name": "stdout",
     "output_type": "stream",
     "text": [
      "Nome: Roberto\n",
      "Órgãos Disponíveis para Doação: Rins, Fígado, Intestino, Medula Óssea\n"
     ]
    }
   ],
   "execution_count": 1
  }
 ],
 "metadata": {
  "kernelspec": {
   "display_name": "Python 3",
   "language": "python",
   "name": "python3"
  },
  "language_info": {
   "codemirror_mode": {
    "name": "ipython",
    "version": 2
   },
   "file_extension": ".py",
   "mimetype": "text/x-python",
   "name": "python",
   "nbconvert_exporter": "python",
   "pygments_lexer": "ipython2",
   "version": "2.7.6"
  }
 },
 "nbformat": 4,
 "nbformat_minor": 5
}
