{
 "cells": [
  {
   "metadata": {},
   "cell_type": "markdown",
   "source": [
    "## Variáveis, Strings and Print\n",
    "### Atividade Prática\n",
    "* **1 Manipule a string para fazer substituições simples**\n",
    "* Letras por números:\n",
    "* Letras por símbolos:\n",
    "* Vogais por números/símbolos:\n",
    "\n",
    "\n"
   ],
   "id": "a90b02ce5027e08d"
  },
  {
   "metadata": {
    "ExecuteTime": {
     "end_time": "2025-03-15T16:50:10.953216Z",
     "start_time": "2025-03-15T16:50:10.949762Z"
    }
   },
   "cell_type": "code",
   "source": "#Letras Por números",
   "id": "d38c6c4fab196fd1",
   "outputs": [],
   "execution_count": 33
  },
  {
   "metadata": {
    "ExecuteTime": {
     "end_time": "2025-03-15T16:09:00.820305Z",
     "start_time": "2025-03-15T16:09:00.816135Z"
    }
   },
   "cell_type": "code",
   "source": "frase_qualquer = \"A prática leva à perfeição\"",
   "id": "61897f681499f1b6",
   "outputs": [],
   "execution_count": 5
  },
  {
   "metadata": {
    "ExecuteTime": {
     "end_time": "2025-03-15T16:11:42.162906Z",
     "start_time": "2025-03-15T16:11:42.159646Z"
    }
   },
   "cell_type": "code",
   "source": "frase_qualquer_manipulada = frase_qualquer.replace(\"a\", \"4\").replace(\"b\",\"5\").replace(\"c\",\"7\").replace(\"d\",\"121\")",
   "id": "2b27e20d37c4d001",
   "outputs": [],
   "execution_count": 9
  },
  {
   "metadata": {
    "ExecuteTime": {
     "end_time": "2025-03-15T16:50:13.594131Z",
     "start_time": "2025-03-15T16:50:13.591591Z"
    }
   },
   "cell_type": "code",
   "source": "print(frase_qualquer_manipulada)",
   "id": "40beee6a1cc2776e",
   "outputs": [
    {
     "name": "stdout",
     "output_type": "stream",
     "text": [
      "A prát__++c4 l&v4 à p&rf&__++çã0\n"
     ]
    }
   ],
   "execution_count": 34
  },
  {
   "metadata": {},
   "cell_type": "code",
   "outputs": [],
   "execution_count": null,
   "source": "#Letras Por Simbolos",
   "id": "d7b67f94d48a2bca"
  },
  {
   "metadata": {
    "ExecuteTime": {
     "end_time": "2025-03-15T16:13:43.946881Z",
     "start_time": "2025-03-15T16:13:43.942219Z"
    }
   },
   "cell_type": "code",
   "source": "frase_qualquer_manipulada = frase_qualquer.replace(\"a\", \"@\").replace(\"s\", \"$\").replace(\"e\", \"ˆ\").replace(\"o\", \"__)\")",
   "id": "6e2dc810d0c413be",
   "outputs": [],
   "execution_count": 11
  },
  {
   "metadata": {
    "ExecuteTime": {
     "end_time": "2025-03-15T16:14:04.056357Z",
     "start_time": "2025-03-15T16:14:04.047883Z"
    }
   },
   "cell_type": "code",
   "source": "print(frase_qualquer_manipulada)",
   "id": "27e1a39af147712b",
   "outputs": [
    {
     "name": "stdout",
     "output_type": "stream",
     "text": [
      "A prátic@ lˆv@ à pˆrfˆiçã__)\n"
     ]
    }
   ],
   "execution_count": 12
  },
  {
   "metadata": {},
   "cell_type": "code",
   "outputs": [],
   "execution_count": null,
   "source": "# Vogais por Números e Letras",
   "id": "375088ccd2d3e10"
  },
  {
   "metadata": {
    "ExecuteTime": {
     "end_time": "2025-03-15T16:16:05.123779Z",
     "start_time": "2025-03-15T16:16:05.118499Z"
    }
   },
   "cell_type": "code",
   "source": "frase_qualquer_manipulada = frase_qualquer.replace(\"a\",\"4\").replace(\"e\",\"&\").replace(\"i\",\"__++\").replace(\"o\",\"0\").replace(\"u\",\"#$\")",
   "id": "7bb6ec5fe983448f",
   "outputs": [],
   "execution_count": 13
  },
  {
   "metadata": {
    "ExecuteTime": {
     "end_time": "2025-03-15T16:16:14.708053Z",
     "start_time": "2025-03-15T16:16:14.705947Z"
    }
   },
   "cell_type": "code",
   "source": "print(frase_qualquer_manipulada)",
   "id": "efd7ecbf2d4bb721",
   "outputs": [
    {
     "name": "stdout",
     "output_type": "stream",
     "text": [
      "A prát__++c4 l&v4 à p&rf&__++çã0\n"
     ]
    }
   ],
   "execution_count": 14
  },
  {
   "metadata": {},
   "cell_type": "markdown",
   "source": [
    "## Desafio\n",
    "- Manipule strings para fazer substiyuições usando cifras de Cesar\n",
    "- Deslocamento 3\n",
    "- Deslocamento 5"
   ],
   "id": "bce25a096a80518f"
  },
  {
   "metadata": {
    "ExecuteTime": {
     "end_time": "2025-03-15T16:18:36.933557Z",
     "start_time": "2025-03-15T16:18:36.926125Z"
    }
   },
   "cell_type": "code",
   "source": "# CIFRAS DE CESAR",
   "id": "e42392dcf2240974",
   "outputs": [],
   "execution_count": 15
  },
  {
   "metadata": {},
   "cell_type": "code",
   "outputs": [],
   "execution_count": null,
   "source": "# Tabela de Referência para Realce",
   "id": "3c2ece8b7686396"
  },
  {
   "metadata": {
    "ExecuteTime": {
     "end_time": "2025-03-15T16:29:58.719594Z",
     "start_time": "2025-03-15T16:29:58.714146Z"
    }
   },
   "cell_type": "code",
   "source": [
    "tabela_deslocanento3 = str.maketrans({\n",
    "    'a' : 'd',\n",
    "    'b' : 'e',\n",
    "    'c' : 'f',\n",
    "    'd' : 'g',\n",
    "    'e' : 'h',\n",
    "    'f' : 'i',\n",
    "    'g' : 'j',\n",
    "    'h' : 'k',\n",
    "    'i' : 'l',\n",
    "    'j' : 'm',\n",
    "    'k' : 'n',\n",
    "    'l' : 'o',\n",
    "    'm' : 'p',\n",
    "    'n' : 'q',\n",
    "    'o' : 'r',\n",
    "    'p' : 's',\n",
    "    'q' : 't',\n",
    "    'r' : 'u',\n",
    "    's' : 'v',\n",
    "    't' : 'w',\n",
    "    'u' : 'x',\n",
    "    'v' : 'y',\n",
    "    'w' : 'z',\n",
    "    'x' : 'a',\n",
    "    'z' : '',\n",
    "})"
   ],
   "id": "74b1d48935c8dc32",
   "outputs": [],
   "execution_count": 17
  },
  {
   "metadata": {
    "ExecuteTime": {
     "end_time": "2025-03-15T16:30:59.699149Z",
     "start_time": "2025-03-15T16:30:59.694654Z"
    }
   },
   "cell_type": "code",
   "source": "cifras_3 = frase_qualquer.translate(tabela_deslocanento3)",
   "id": "d310adcdef7b1815",
   "outputs": [],
   "execution_count": 18
  },
  {
   "metadata": {
    "ExecuteTime": {
     "end_time": "2025-03-15T16:31:10.195109Z",
     "start_time": "2025-03-15T16:31:10.192022Z"
    }
   },
   "cell_type": "code",
   "source": "print(cifras_3)",
   "id": "47bda33a8047c928",
   "outputs": [
    {
     "name": "stdout",
     "output_type": "stream",
     "text": [
      "A suáwlfd ohyd à shuihlçãr\n"
     ]
    }
   ],
   "execution_count": 19
  },
  {
   "metadata": {
    "ExecuteTime": {
     "end_time": "2025-03-15T16:36:48.606215Z",
     "start_time": "2025-03-15T16:36:48.600754Z"
    }
   },
   "cell_type": "code",
   "source": [
    "tabela_deslocamento5 = str.maketrans({\n",
    "    'a' : 'f',\n",
    "    'b' : 'g',\n",
    "    'c' : 'h',\n",
    "    'd' : 'i',\n",
    "    'e' : 'j',\n",
    "    'f' : 'k',\n",
    "    'g' : 'l',\n",
    "    'h' : 'm',\n",
    "    'i' : 'n',\n",
    "    'j' : 'm',\n",
    "    'j' : 'o',\n",
    "    'k' : 'p',\n",
    "    'l' : 'q',\n",
    "    'm' : 'r',\n",
    "    'n' : 's',\n",
    "    'o' : 't',\n",
    "    'p' : 'u',\n",
    "    'q' : 'v',\n",
    "    'r' : 'w',\n",
    "    's' : 'x',\n",
    "    't' : 'y',\n",
    "    'u' : 'z',\n",
    "    'v' : 'a',\n",
    "    'w' : 'b',\n",
    "    'y' : 'd',\n",
    "    'z' : 'e'\n",
    "})"
   ],
   "id": "cf18dd96a193f8e",
   "outputs": [],
   "execution_count": 20
  },
  {
   "metadata": {
    "ExecuteTime": {
     "end_time": "2025-03-15T16:37:50.848243Z",
     "start_time": "2025-03-15T16:37:50.843669Z"
    }
   },
   "cell_type": "code",
   "source": [
    "cifras_5 = frase_qualquer.translate(tabela_deslocamento5)\n",
    "print(cifras_5)"
   ],
   "id": "36f8705bb3fdd956",
   "outputs": [
    {
     "name": "stdout",
     "output_type": "stream",
     "text": [
      "A uwáynhf qjaf à ujwkjnçãt\n"
     ]
    }
   ],
   "execution_count": 21
  },
  {
   "metadata": {},
   "cell_type": "markdown",
   "source": [
    "## Atividade Prática\n",
    "- Crie o menu principal do SNDO (Sistema Nacional de Doação de Órgãos e Tecidos) com as seguintes opções:\n",
    "- Cadastrar potencial doador\n",
    "- Adicionar doação\n",
    "- Processar doação (encaminhar para transplante)\n",
    "- Exibir estoque atual dos Centros de Distribuição\n",
    "- Exibir histórico de doações\n",
    "- Finalizar aplicação"
   ],
   "id": "16967c90f430f330"
  },
  {
   "metadata": {
    "ExecuteTime": {
     "end_time": "2025-03-15T16:41:05.642971Z",
     "start_time": "2025-03-15T16:41:05.639386Z"
    }
   },
   "cell_type": "code",
   "source": "    #FORMULÁRIO",
   "id": "9fe877d4ded07488",
   "outputs": [],
   "execution_count": 22
  },
  {
   "metadata": {
    "ExecuteTime": {
     "end_time": "2025-03-15T16:48:43.064521Z",
     "start_time": "2025-03-15T16:48:43.061860Z"
    }
   },
   "cell_type": "code",
   "source": [
    "print(\"--- SISTEMA NACIONAL DE DOACAO DE ORGÃOS E TECIDOS ----\")\n",
    "print(\"                     Menu Principal \")\n",
    "\n",
    "print(\"1. Cadastrar Potencial Doador \\n\"\n",
    "      \"2. Adicionar Doaçãao \\n\"\n",
    "      \"3. Processar Doação\\n\"\n",
    "      \"4. Exibir Estoque Atual dos Centros de Distribuição\\n\"\n",
    "      \"5. Exibir Histórico de Doações\\n\"\n",
    "      \"6. Finalizar Aplicaçãao\\n\")"
   ],
   "id": "2442132fb60c99a8",
   "outputs": [
    {
     "name": "stdout",
     "output_type": "stream",
     "text": [
      "--- SISTEMA NACIONAL DE DOACAO DE ORGÃOS E TECIDOS ----\n",
      "                     Menu Principal \n",
      "1. Cadastrar Potencial Doador \n",
      "2. Adicionar Doaçãao \n",
      "3. Processar Doação\n",
      "4. Exibir Estoque Atual dos Centros de Distribuição\n",
      "5. Exibir Histórico de Doações\n",
      "6. Finalizar Aplicaçãao\n",
      "\n"
     ]
    }
   ],
   "execution_count": 32
  },
  {
   "metadata": {},
   "cell_type": "markdown",
   "source": "### Fim de Notebooks 01_string_input_print.ipynb\n",
   "id": "940d422e546c30ce"
  },
  {
   "metadata": {},
   "cell_type": "code",
   "outputs": [],
   "execution_count": null,
   "source": "",
   "id": "6599e02d0aaf075b"
  }
 ],
 "metadata": {
  "kernelspec": {
   "display_name": "Python 3",
   "language": "python",
   "name": "python3"
  },
  "language_info": {
   "codemirror_mode": {
    "name": "ipython",
    "version": 2
   },
   "file_extension": ".py",
   "mimetype": "text/x-python",
   "name": "python",
   "nbconvert_exporter": "python",
   "pygments_lexer": "ipython2",
   "version": "2.7.6"
  }
 },
 "nbformat": 4,
 "nbformat_minor": 5
}
