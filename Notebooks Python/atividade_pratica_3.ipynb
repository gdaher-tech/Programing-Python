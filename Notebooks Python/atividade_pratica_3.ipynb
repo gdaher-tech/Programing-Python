{
 "cells": [
  {
   "metadata": {},
   "cell_type": "markdown",
   "source": "# 3. Com o menu principal do SNDOT criado, solicite a opção do menu que o usuário deseja utilizar e faça as verificações usando if, elif e else:",
   "id": "d2199888777e1028"
  },
  {
   "metadata": {
    "ExecuteTime": {
     "end_time": "2025-03-16T22:18:38.291800Z",
     "start_time": "2025-03-16T22:18:38.287266Z"
    }
   },
   "cell_type": "code",
   "source": [
    "print(\"--- SISTEMA NACIONAL DE DOACAO DE ORGÃOS E TECIDOS ----\")\n",
    "print(\"                     Menu Principal \")\n",
    "\n",
    "print(\"1. Cadastrar Potencial Doador \\n\"\n",
    "      \"2. Adicionar Doaçãao \\n\"\n",
    "      \"3. Processar Doação\\n\"\n",
    "      \"4. Exibir Estoque Atual dos Centros de Distribuição\\n\"\n",
    "      \"5. Exibir Histórico de Doações\\n\"\n",
    "      \"6. Finalizar Aplicaçãao\\n\")"
   ],
   "id": "8e68766b566ac0ac",
   "outputs": [
    {
     "name": "stdout",
     "output_type": "stream",
     "text": [
      "--- SISTEMA NACIONAL DE DOACAO DE ORGÃOS E TECIDOS ----\n",
      "                     Menu Principal \n",
      "1. Cadastrar Potencial Doador \n",
      "2. Adicionar Doaçãao \n",
      "3. Processar Doação\n",
      "4. Exibir Estoque Atual dos Centros de Distribuição\n",
      "5. Exibir Histórico de Doações\n",
      "6. Finalizar Aplicaçãao\n",
      "\n"
     ]
    }
   ],
   "execution_count": 1
  },
  {
   "metadata": {
    "ExecuteTime": {
     "end_time": "2025-03-16T22:19:09.985141Z",
     "start_time": "2025-03-16T22:19:07.993116Z"
    }
   },
   "cell_type": "code",
   "source": [
    "while True:\n",
    "    opcao = int(input(\"Digite uma opção: \"))\n",
    "\n",
    "    if opcao == 1:\n",
    "        print(\"Cadastrar Potencial Doador \\n\")\n",
    "        break\n",
    "\n",
    "    elif opcao == 2:\n",
    "        print(\"Adicionar Doação\")\n",
    "        break\n",
    "\n",
    "    elif opcao == 3:\n",
    "        print(\"Processar Doação\")\n",
    "        break\n",
    "\n",
    "    elif opcao == 4:\n",
    "        print(\"Exibir Estoque Atual dos Centros de Distribuição\")\n",
    "        break\n",
    "\n",
    "    elif opcao == 5:\n",
    "        print(\"Exibir Histórico de Doações\")\n",
    "        break\n",
    "\n",
    "    elif opcao == 6:\n",
    "        print(\"Finalizar Aplicação\")\n",
    "        break\n",
    "\n",
    "    else:\n",
    "        print(\"Opção inválida. Tente novamente.\")\n"
   ],
   "id": "6a9e527fb5319af6",
   "outputs": [
    {
     "name": "stdout",
     "output_type": "stream",
     "text": [
      "Adicionar Doação\n"
     ]
    }
   ],
   "execution_count": 2
  },
  {
   "metadata": {},
   "cell_type": "markdown",
   "source": [
    "## Na opção 01, realize as seguintes validações e controles nos dados de entrada\n",
    "\n",
    "### Dados Pessoais\n",
    "\n",
    "- Nome: deve conter apenas caracteres alfabéticos\n",
    "- Idade: deve conter apenas números, não pode ser negativo e nem superior a 80 anos\n",
    "- Sexo: deve conter apenas um caractere igual a M ou F\n",
    "- Estado de Nascimento: deve conter apenas dois caracteres no formato de um dos 27 estados brasileiros\n",
    "- CPF: deve conter apenas 11 números no seguinte formato: xxx.xxx.xxx-xx\n",
    "- Contato\n",
    "\n",
    "- Telefone: deve conter apenas 10 ou 11 números (ex. 61943235345)"
   ],
   "id": "2bd009c61ce83354"
  },
  {
   "metadata": {
    "ExecuteTime": {
     "end_time": "2025-03-16T22:24:52.309385Z",
     "start_time": "2025-03-16T22:24:18.499676Z"
    }
   },
   "cell_type": "code",
   "source": [
    "# NOME\n",
    "\n",
    "if opcao == 1:\n",
    "        print(\"Cadastrar Potencial Doador \\n\")\n",
    "\n",
    "def validar_nome (nome):\n",
    "    return nome.replace(' ', '').isalpha()\n",
    "\n",
    "while True:\n",
    "    nome = input(\"Digite o seu primeiro nome : \\n\")\n",
    "    if validar_nome(nome):\n",
    "        print(\"Nome cadastrado com sucesso\")\n",
    "        break\n",
    "    else:\n",
    "        print(\"Nome inválido. Por favor insira um nome Válido\")\n",
    "\n",
    "# IDADE\n",
    "\n",
    "def validar_idade(idade):\n",
    "    return idade.isdigit() and  18 <= int(idade) <= 80\n",
    "\n",
    "\n",
    "while True:\n",
    "    idade = input(\"Digite a sua idade: \")\n",
    "\n",
    "    if validar_idade(idade):\n",
    "        print(\"Idade Cadastrada com sucesso\")\n",
    "        break\n",
    "\n",
    "    else:\n",
    "        print(\"Idade inválida. Insira novamente\")\n",
    "\n",
    "# Sexo\n",
    "\n",
    "def validar_sexo(sexo):\n",
    "    return sexo.isalpha() and sexo in (\"M\", \"F\")\n",
    "\n",
    "\n",
    "while True:\n",
    "    sexo = input(\"Insira seu sexo (M/F): \").upper()\n",
    "\n",
    "    if validar_sexo(sexo):\n",
    "        print(\"Sexo cadastrado com sucesso\")\n",
    "        break\n",
    "    else:\n",
    "        print(\"Sexo inválido. Por favor insira M ou F\")\n",
    "\n",
    "# Estado de Nascimento\n",
    "\n",
    "estados_siglas = [\n",
    "    \"AC\", \"AL\", \"AP\", \"AM\", \"BA\", \"CE\", \"DF\", \"ES\", \"GO\", \"MA\", \"MT\", \"MS\", \"MG\",\n",
    "    \"PA\", \"PB\", \"PR\", \"PE\", \"PI\", \"RJ\", \"RN\", \"RS\", \"RO\", \"RR\", \"SC\", \"SP\", \"SE\", \"TO\"\n",
    "]\n",
    "\n",
    "def validar_estado(estado):\n",
    "    return estado in estados_siglas\n",
    "\n",
    "while True:\n",
    "    estado_nasc = input(\"Insira o seu estado de nascimento (GO) \\n  USE SOMENTE A SIGLA  \\n Estado de Nascimento: \").upper()\n",
    "\n",
    "    if validar_estado(estado_nasc):\n",
    "        print(\"Estado cadastrado com sucesso\")\n",
    "        break\n",
    "    else:\n",
    "        print(\"Estado inválido. Insira novamente\")\n",
    "\n",
    "# CPF\n",
    "\n",
    "def validar_cpf (cpf):\n",
    "    cpf = cpf.replace('.', '').replace('-', '').replace(' ', '')\n",
    "\n",
    "    # Verificar se o cpf tem 11 digitos\n",
    "    if len(cpf) != 11 or not cpf.isnumeric() or cpf == cpf[0] * 11:\n",
    "        return False\n",
    "    else:\n",
    "        return True\n",
    "\n",
    "while True:\n",
    "    cpf = input(\"Insira o CPF (000.000.000.00): \").upper()\n",
    "\n",
    "    if validar_cpf(cpf):\n",
    "        print(\"CPF cadastrado com sucesso\")\n",
    "        break\n",
    "    else:\n",
    "        print(\"CPF inválido. Insira novamente\")\n",
    "\n",
    "# TELEFONE\n",
    "\n",
    "# Validacao e captura de Telefone\n",
    "\n",
    "def validar_telefone(telefone):\n",
    "    telefone = telefone.replace(\" \", \"\").replace(\"-\", \"\")\n",
    "\n",
    "    return telefone.isdigit() and telefone.isnumeric() and len(telefone) in (10, 11)\n",
    "\n",
    "while True:\n",
    "    telefone = input(\"Insira o telefone: (62 9 9889-6252)\")\n",
    "\n",
    "    if validar_telefone(telefone):\n",
    "        print(\"Telefone cadastrado com sucesso\")\n",
    "        break\n",
    "\n",
    "    else:\n",
    "        print(\"Telefoe inválido. Insira novamente\")\n",
    "\n",
    "\n"
   ],
   "id": "44e2053199da513b",
   "outputs": [
    {
     "name": "stdout",
     "output_type": "stream",
     "text": [
      "Nome cadastrado com sucesso\n",
      "Idade Cadastrada com sucesso\n",
      "Sexo cadastrado com sucesso\n",
      "Estado cadastrado com sucesso\n",
      "CPF cadastrado com sucesso\n",
      "Telefone cadastrado com sucesso\n"
     ]
    }
   ],
   "execution_count": 5
  }
 ],
 "metadata": {
  "kernelspec": {
   "display_name": "Python 3",
   "language": "python",
   "name": "python3"
  },
  "language_info": {
   "codemirror_mode": {
    "name": "ipython",
    "version": 2
   },
   "file_extension": ".py",
   "mimetype": "text/x-python",
   "name": "python",
   "nbconvert_exporter": "python",
   "pygments_lexer": "ipython2",
   "version": "2.7.6"
  }
 },
 "nbformat": 4,
 "nbformat_minor": 5
}
