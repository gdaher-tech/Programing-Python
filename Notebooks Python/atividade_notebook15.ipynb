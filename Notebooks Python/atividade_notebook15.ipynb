{
 "cells": [
  {
   "metadata": {},
   "cell_type": "markdown",
   "source": "# Menu\n",
   "id": "299c94a07e32637e"
  },
  {
   "metadata": {
    "ExecuteTime": {
     "end_time": "2025-03-23T04:03:10.316012Z",
     "start_time": "2025-03-23T04:03:10.308380Z"
    }
   },
   "cell_type": "code",
   "source": [
    "from os import sysconf\n",
    "\n",
    "print('▓▓▓▓▓ SNDOT ▓▓▓▓▓')"
   ],
   "id": "c16adc41815cdafd",
   "outputs": [
    {
     "name": "stdout",
     "output_type": "stream",
     "text": [
      "▓▓▓▓▓ SNDOT ▓▓▓▓▓\n"
     ]
    }
   ],
   "execution_count": 69
  },
  {
   "metadata": {
    "ExecuteTime": {
     "end_time": "2025-03-23T04:03:11.701479Z",
     "start_time": "2025-03-23T04:03:11.698629Z"
    }
   },
   "cell_type": "code",
   "source": "print('╠ SEJA BEM VINDO AO SISTEMA NACIONAL DE DOAÇÕES DE ORGÃOS ╣')",
   "id": "854b16012b627985",
   "outputs": [
    {
     "name": "stdout",
     "output_type": "stream",
     "text": [
      "╠ SEJA BEM VINDO AO SISTEMA NACIONAL DE DOAÇÕES DE ORGÃOS ╣\n"
     ]
    }
   ],
   "execution_count": 70
  },
  {
   "metadata": {
    "ExecuteTime": {
     "end_time": "2025-03-23T04:06:07.432591Z",
     "start_time": "2025-03-23T04:06:05.150017Z"
    }
   },
   "cell_type": "code",
   "source": [
    "print(''' ╠ INSIRA O NÚMERO REFERENTE A OPÇÃO DESEJADA:\n",
    "\n",
    "    1. Cadastrar Doador\n",
    "    2. Adicionar Doações\n",
    "    3. Processar Doação\n",
    "    4. Exibir estoque dos Centros de Distribuição\n",
    "    5. Exibir histórico de Doações\n",
    "    6. Finalizar Aplicação\n",
    "''')\n",
    "\n",
    "opcao = input('Insira a opção desejada: ')"
   ],
   "id": "aec896ea25cc9584",
   "outputs": [
    {
     "name": "stdout",
     "output_type": "stream",
     "text": [
      " ╠ INSIRA O NÚMERO REFERENTE A OPÇÃO DESEJADA:\n",
      "\n",
      "    1. Cadastrar Doador\n",
      "    2. Adicionar Doações\n",
      "    3. Processar Doação\n",
      "    4. Exibir estoque dos Centros de Distribuição\n",
      "    5. Exibir histórico de Doações\n",
      "    6. Finalizar Aplicação\n",
      "\n"
     ]
    }
   ],
   "execution_count": 76
  },
  {
   "metadata": {},
   "cell_type": "markdown",
   "source": "## Opção 1",
   "id": "dfafbde88043407c"
  },
  {
   "metadata": {
    "ExecuteTime": {
     "end_time": "2025-03-23T06:16:19.188172Z",
     "start_time": "2025-03-23T06:16:19.176993Z"
    }
   },
   "cell_type": "code",
   "source": [
    "if opcao == '1':\n",
    "    titulo = 'Cadastrar Potencial Doador'\n",
    "    linha = '*' * len(titulo)\n",
    "    print(f\"{linha}\\n{titulo}\\n{linha}\\n\")\n",
    "\n",
    "\n",
    "import os\n",
    "import random\n",
    "import time\n",
    "from datetime import datetime\n",
    "\n",
    "lista_potenciais_doadores = []\n",
    "lista_de_doacoes = []\n",
    "\n",
    "lista_de_orgaos = ['Coração', 'Rins', 'Fígado', 'Pâncreas', 'Pulmões', 'Intestino', 'Córneas', 'Pele', 'Ossos', 'Válvulas Cardíacas', 'Cartilagem', 'Medula Óssea', 'Tendões', 'Vasos Sanguíneo', 'Sangue de Cordão Umbilical', 'Sangue Universal' ]\n",
    "\n",
    "lista_de_tipos_de_orgaos = ['Órgão','Órgão','Órgão','Órgão','Órgão', 'Órgão', 'Tecido', 'Tecido', 'Tecido', 'Tecido', 'Tecido', 'Tecido', 'Tecido', 'Tecido', 'Sangue', 'Sangue']\n",
    "\n",
    "centros_de_distribuicao = ['Fortaleza', 'Salvador', 'Rio de Janeiro', 'São Paulo', 'Brasília']\n",
    "\n",
    "estados = ['AC', 'AL', 'AP', 'AM', 'BA', 'CE', 'DF', 'ES', 'GO', 'MA', 'MT', 'MS',\n",
    " 'MG', 'PA', 'PB', 'PR', 'PE', 'PI', 'RJ', 'RN', 'RS', 'RO', 'RR',\n",
    " 'SC', 'SP', 'SE', 'TO']\n",
    "\n",
    "estados_civis = [\n",
    "    'solteiro',\n",
    "    'casado',\n",
    "    'divorciado',\n",
    "    'viúvo',\n",
    "    'separado',\n",
    "    'união estável'\n",
    "]\n",
    "\n",
    "doacaoes_por_centro = {centro: [] for centro in centros_de_distribuicao}\n",
    "\n"
   ],
   "id": "80d6a5c6420df17c",
   "outputs": [
    {
     "name": "stdout",
     "output_type": "stream",
     "text": [
      "**************************\n",
      "Cadastrar Potencial Doador\n",
      "**************************\n",
      "\n"
     ]
    }
   ],
   "execution_count": 86
  },
  {
   "metadata": {},
   "cell_type": "markdown",
   "source": "### Realize as validações na Opção 1, caso necessário\n",
   "id": "f39565613e68a815"
  },
  {
   "metadata": {
    "ExecuteTime": {
     "end_time": "2025-03-23T04:00:03.009746Z",
     "start_time": "2025-03-23T03:58:24.001592Z"
    }
   },
   "cell_type": "code",
   "source": [
    "# Nome, Idade, Sexo, Data de Nascimento, Local de Nascimento, CPF, Profissão, Cidade, Estado, Estado Civil\n",
    "\n",
    "# Validação de nome\n",
    "def validar_nome(nome):\n",
    "    nome = nome.strip()\n",
    "    return nome.replace(' ', '').isalpha() and len(nome) >= 3\n",
    "\n",
    "# Validação de idade\n",
    "def validar_idade(idade):\n",
    "    return idade.isdigit()\n",
    "\n",
    "# Validação de sexo (com padronização de saída)\n",
    "def validar_sexo(sexo):\n",
    "    sexo = sexo.strip().lower()\n",
    "    if sexo in ('m', 'masculino'):\n",
    "        return 'M'\n",
    "    elif sexo in ('f', 'feminino'):\n",
    "        return 'F'\n",
    "    return None\n",
    "\n",
    "## Validacao de data de nascimento\n",
    "def validar_data_nascimento(data_nascimento):\n",
    "    try:\n",
    "        datetime.strptime(data_nascimento, '%d/%m/%Y')\n",
    "        return True\n",
    "    except ValueError:\n",
    "        return False\n",
    "\n",
    "## Validacao de local de nascimento\n",
    "def validar_local_de_nascimento(local_de_nascimento):\n",
    "    local_de_nascimento = local_de_nascimento.strip()\n",
    "    return local_de_nascimento.replace(' ','').isalpha() and len(local_de_nascimento) >= 3\n",
    "\n",
    "## Validar cpf\n",
    "def validar_cpf(cpf):\n",
    "    cpf = cpf.replace('.', '').replace('-', '').replace(' ', '')\n",
    "\n",
    "    if not cpf.isdigit() or len(cpf) != 11:\n",
    "        return False\n",
    "\n",
    "    # Rejeita CPFs com todos os dígitos iguais\n",
    "    if cpf == cpf[0] * 11:\n",
    "        return False\n",
    "\n",
    "    # Validação do primeiro dígito verificador\n",
    "    soma = sum(int(cpf[i]) * (10 - i) for i in range(9))\n",
    "    dig1 = (soma * 10) % 11\n",
    "    if dig1 == 10:\n",
    "        dig1 = 0\n",
    "    if dig1 != int(cpf[9]):\n",
    "        return False\n",
    "\n",
    "    # Validação do segundo dígito verificador\n",
    "    soma = sum(int(cpf[i]) * (11 - i) for i in range(10))\n",
    "    dig2 = (soma * 10) % 11\n",
    "    if dig2 == 10:\n",
    "        dig2 = 0\n",
    "    if dig2 != int(cpf[10]):\n",
    "        return False\n",
    "\n",
    "    return True  # ✅ CPF válido\n",
    "\n",
    "## Validacao de profissao\n",
    "def validar_profissao(profissao):\n",
    "    profissao = profissao.strip()\n",
    "    return profissao.replace(' ', '').isalpha() and len(profissao) >= 3\n",
    "\n",
    "def validar_cidade(endereco_cidade):\n",
    "    endereco_cidade = endereco_cidade.strip()\n",
    "    return endereco_cidade.isalpha() and len(endereco_cidade) >= 3\n",
    "\n",
    "def validar_estado(endereco_estado):\n",
    "    endereco_estado = endereco_estado.strip()\n",
    "    return endereco_estado.isalpha()  and endereco_estado in estados\n",
    "\n",
    "def validar_estado_civil(estado_civil):\n",
    "    estado_civil = estado_civil.strip()\n",
    "    return estado_civil.isalpha() and len(estado_civil) >= 3 and estado_civil in estados_civis\n",
    "\n",
    "\n",
    "\n",
    "\n",
    "## Captação do nome\n",
    "while True:\n",
    "    nome = input('Insira seu nome: ')\n",
    "    if validar_nome(nome):\n",
    "        break\n",
    "    print('❌ Nome inválido. Por favor insira somente letras com ao menos 3 caracteres.')\n",
    "\n",
    "\n",
    "## Captação da idade\n",
    "while True:\n",
    "    idade_input = input('Digite a sua idade: ')\n",
    "    if not validar_idade(idade_input):\n",
    "        print('❌ Entrada inválida. Digite um número inteiro.')\n",
    "        continue\n",
    "\n",
    "    idade = int(idade_input)\n",
    "    if idade < 18 or idade > 60:\n",
    "        print('❌ Doadores válidos devem ter entre 18 e 60 anos.')\n",
    "        continue\n",
    "\n",
    "    break\n",
    "\n",
    "\n",
    "## Captação do sexo\n",
    "while True:\n",
    "    sexo_input = input('Insira seu sexo (M/F): ')\n",
    "    sexo = validar_sexo(sexo_input)\n",
    "    if sexo:\n",
    "        break\n",
    "    print('❌ Entrada inválida. Digite M ou F.')\n",
    "\n",
    "\n",
    "## Captação da data de nascimento\n",
    "while True:\n",
    "    data_nascimento = input('Insira sua data nascimento: (dd/mm/yyyy)')\n",
    "\n",
    "    if validar_data_nascimento(data_nascimento):\n",
    "        break\n",
    "\n",
    "    print('❌ data inválida. Use o formato dd/mm/aaaa')\n",
    "\n",
    "\n",
    "## Captação de local de nascimento\n",
    "while True:\n",
    "    local_de_nascimento = input('Insira o seu local de nascimento: ')\n",
    "\n",
    "    if validar_local_de_nascimento(local_de_nascimento):\n",
    "        break\n",
    "\n",
    "    print('❌ local inválido.')\n",
    "\n",
    "\n",
    "## Captação de CPF\n",
    "while True:\n",
    "    cpf = input('Insira o seu cpf (xxx.xxx.xxx.xx)')\n",
    "\n",
    "    if validar_cpf(cpf):\n",
    "        break\n",
    "\n",
    "    print('❌ CPF inválido')\n",
    "\n",
    "\n",
    "## Captação de Profissão\n",
    "while True:\n",
    "    profissao = input('Insira a sua profissao: ')\n",
    "\n",
    "    if validar_profissao(profissao):\n",
    "        break\n",
    "\n",
    "    print('❌ profissão inválida, insira somente letras')\n",
    "\n",
    "\n",
    "## Captação de Profissão\n",
    "while True:\n",
    "    endereco_cidade = input('Insira a cidade que você reside: ')\n",
    "\n",
    "    if validar_cidade(endereco_cidade):\n",
    "        break\n",
    "\n",
    "    print('❌ Cidade inválida')\n",
    "\n",
    "## Captação de Estado\n",
    "while True:\n",
    "    endereco_estado = input('Insira o estado: (Insira somente a sigla) ex. Sao Paulo = SP').upper()\n",
    "\n",
    "    if validar_estado(endereco_estado):\n",
    "        break\n",
    "\n",
    "    print('❌ Estado inválida')\n",
    "\n",
    "## Captação de Estado Civil\n",
    "while True:\n",
    "    estado_civil = input('Insira o seu estado civil: ').lower()\n",
    "\n",
    "    if validar_estado_civil(estado_civil):\n",
    "        break\n",
    "\n",
    "    print('❌ Estado civil inválido')\n",
    "\n",
    "\n",
    "lista_potenciais_doadores.append([nome, idade, sexo, data_nascimento, local_de_nascimento, cpf, profissao, endereco_cidade, endereco_estado, estado_civil])\n",
    "\n",
    "os.system('cls' if os.name == 'nt' else 'clear')\n",
    "print(f'O potencial doador {nome}, portador do CPF {cpf}, reside em {endereco_cidade}-{endereco_estado} foi cadastrado com sucesso!')\n",
    "\n"
   ],
   "id": "470a1a564d1eebcd",
   "outputs": [
    {
     "name": "stdout",
     "output_type": "stream",
     "text": [
      "\u001B[H\u001B[2JO potencial doador Gustavo, portador do CPF 096.274.451.42, reside em brasília-GO foi cadastrado com sucesso!\n"
     ]
    }
   ],
   "execution_count": 68
  },
  {
   "metadata": {},
   "cell_type": "markdown",
   "source": "## 2. Realize as validações na Opção 2, caso necessário\n",
   "id": "5a5d6c5e02600a30"
  },
  {
   "metadata": {
    "ExecuteTime": {
     "end_time": "2025-03-23T06:19:17.377167Z",
     "start_time": "2025-03-23T06:19:17.371056Z"
    }
   },
   "cell_type": "code",
   "source": [
    "import random\n",
    "\n",
    "if opcao == '2':\n",
    "    print('Adicionar Doações')\n",
    "\n",
    "\n",
    "    def validar_orgao(orgao):\n",
    "        orgao = orgao.strip().title()\n",
    "        return orgao in lista_de_orgaos\n",
    "\n",
    "    cpf = input('Informe o CPF do potencial doador: ')\n",
    "\n",
    "# Extrai todos os cpf cadastrados\n",
    "    lista_potenciais_doadores_por_cpf = [doador[6] for doador in lista_potenciais_doadores]\n",
    "\n",
    "# Verifica se o CPF esta na lista\n",
    "    if cpf not in lista_potenciais_doadores_por_cpf:\n",
    "        print(f'CPF {cpf} não está cadastrado.')\n",
    "        print('Por favor, insira a opção 1 do menu principal do SNDO')\n",
    "\n",
    "    print(f'CPF {cpf} encontrado. Vamos prosseguir com a doação.')\n",
    "\n",
    "# Mostra os órgãos disponíveis\n",
    "    for i, (orgao, tipo_de_orgao) in enumerate(zip(lista_de_orgaos, lista_de_tipos_de_orgaos)):\n",
    "        print(f\"[{i}]: {orgao} do tipo {tipo_de_orgao}\")\n",
    "\n",
    "    orgao = input('Digite o órgão que será doado: ')\n",
    "\n",
    "    if not validar_orgao(orgao):\n",
    "        print(f\"❌ O órgão '{orgao}' não está disponível para doação.\")\n",
    "\n",
    "# Registra a doação\n",
    "    lista_de_doacoes.append([cpf, orgao])\n",
    "print(f'Órgão {orgao} cadastrado com sucesso para o doador {cpf}')\n",
    "\n",
    "lista_de_doacoes.append([cpf, orgao, centro])\n",
    "print(f'A doação será encaminhada para o centro de distribuição {centro}')\n"
   ],
   "id": "9fc4e8489a7300ae",
   "outputs": [
    {
     "name": "stdout",
     "output_type": "stream",
     "text": [
      "Órgão Coração cadastrado com sucesso para o doador 09627445142\n",
      "A doação será encaminhada para o centro de distribuição São Paulo\n"
     ]
    }
   ],
   "execution_count": 91
  },
  {
   "metadata": {},
   "cell_type": "markdown",
   "source": [
    "## 3. Crie e gerencie as listas de doações dos centros de distribuição\n",
    "\n"
   ],
   "id": "c75906d789c93e8a"
  },
  {
   "metadata": {
    "ExecuteTime": {
     "end_time": "2025-03-23T06:24:29.484233Z",
     "start_time": "2025-03-23T06:24:29.479294Z"
    }
   },
   "cell_type": "code",
   "source": [
    "centros_de_distribuicao = ['Fortaleza', 'Salvador', 'Rio de Janeiro', 'São Paulo', 'Brasília']\n",
    "\n",
    "# Cada centro tem sua lista de doações e estoque\n",
    "doacoes_por_centro = {centro: [] for centro in centros_de_distribuicao}\n",
    "estoque_por_centro = {centro: [] for centro in centros_de_distribuicao}\n"
   ],
   "id": "806124d5c92613d0",
   "outputs": [],
   "execution_count": 92
  },
  {
   "metadata": {},
   "cell_type": "markdown",
   "source": "## 4. Gerencie adequadamente o processamento das doações considerando o estoque dos centros de distribuição\n",
   "id": "a8c78c326047200c"
  },
  {
   "metadata": {
    "ExecuteTime": {
     "end_time": "2025-03-23T06:25:40.274569Z",
     "start_time": "2025-03-23T06:25:40.266553Z"
    }
   },
   "cell_type": "code",
   "source": [
    "import random\n",
    "\n",
    "def registrar_doacao(cpf, orgao):\n",
    "    centro = random.choice(centros_de_distribuicao)\n",
    "    doacoes_por_centro[centro].append([cpf, orgao])\n",
    "    estoque_por_centro[centro].append(orgao)\n",
    "    print(f\"✅ Doação registrada: {orgao} de {cpf} → {centro}\")\n"
   ],
   "id": "c1e05ec3cabb8887",
   "outputs": [],
   "execution_count": 93
  }
 ],
 "metadata": {
  "kernelspec": {
   "display_name": "Python 3",
   "language": "python",
   "name": "python3"
  },
  "language_info": {
   "codemirror_mode": {
    "name": "ipython",
    "version": 2
   },
   "file_extension": ".py",
   "mimetype": "text/x-python",
   "name": "python",
   "nbconvert_exporter": "python",
   "pygments_lexer": "ipython2",
   "version": "2.7.6"
  }
 },
 "nbformat": 4,
 "nbformat_minor": 5
}
