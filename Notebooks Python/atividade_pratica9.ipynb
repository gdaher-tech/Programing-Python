{
 "cells": [
  {
   "metadata": {
    "ExecuteTime": {
     "end_time": "2025-03-16T23:22:56.132631Z",
     "start_time": "2025-03-16T23:22:56.127060Z"
    }
   },
   "cell_type": "code",
   "source": [
    "# Listas de órgãos e seus tempos de isquemia\n",
    "orgaos = [\"Coração\", \"Pulmão\", \"Rim\", \"Fígado\", \"Pâncreas\", \"Intestino\"]\n",
    "tempos_isquemia = [\"04 horas\", \"04 a 06 horas\", \"48 horas\", \"12 horas\", \"12 horas\", \"04 a 06 horas\"]\n",
    "\n",
    "# I. Imprimir mensagem personalizada para os órgãos com tempo de isquemia igual a 4 horas\n",
    "for i in range(len(orgaos)):\n",
    "    if tempos_isquemia[i] == \"04 horas\":\n",
    "        print(f\"O órgão {orgaos[i]} tem tempo de isquemia igual a 4 horas.\")\n",
    "\n",
    "# II. Imprimir mensagem personalizada para os órgãos com tempo de isquemia menor que 12 horas\n",
    "for i in range(len(orgaos)):\n",
    "    if \"4\" in tempos_isquemia[i] and \"a\" not in tempos_isquemia[i]:\n",
    "        print(f\"O órgão {orgaos[i]} tem tempo de isquemia menor que 12 horas.\")\n"
   ],
   "id": "3d9cd1fe8873aff0",
   "outputs": [
    {
     "name": "stdout",
     "output_type": "stream",
     "text": [
      "O órgão Coração tem tempo de isquemia igual a 4 horas.\n"
     ]
    }
   ],
   "execution_count": 1
  }
 ],
 "metadata": {
  "kernelspec": {
   "display_name": "Python 3",
   "language": "python",
   "name": "python3"
  },
  "language_info": {
   "codemirror_mode": {
    "name": "ipython",
    "version": 2
   },
   "file_extension": ".py",
   "mimetype": "text/x-python",
   "name": "python",
   "nbconvert_exporter": "python",
   "pygments_lexer": "ipython2",
   "version": "2.7.6"
  }
 },
 "nbformat": 4,
 "nbformat_minor": 5
}
