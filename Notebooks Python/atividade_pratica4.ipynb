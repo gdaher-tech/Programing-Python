{
 "cells": [
  {
   "metadata": {},
   "cell_type": "markdown",
   "source": [
    "# 4. Observe que o código abaixo não realiza a validação adequamente e pode inserir órgãos que já estão contidos na lista. Desenvolva a validação adequada para que isso não ocorra, ou seja, apenas órgãos que não estão na lista devem ser adicionados.\n",
    "\n",
    "```python\n",
    "lista_de_orgaos = [\"Coração\", \"Rins\",  \"Fígado\", \"Pâncreas\", \"Pulmões\"]\n",
    "\n",
    "orgao_para_adicionar = input(\"Qual órgão você deseja adicionar na lista de órgãos?\\nCaso tenha mais de um órgão, separe-os por vírgula (Ex. 'Coracao, Pulmao, Pele').\")\n",
    "\n",
    "nova_lista_de_orgaos = orgao_para_adicionar.split(\", \")\n",
    "\n",
    "if nova_lista_de_orgaos in lista_de_orgaos:\n",
    "    print(f\"{orgao_para_adicionar} já está na lista de órgões que podem ser doados.\")\n",
    "    print(lista_de_orgaos)\n",
    "else:\n",
    "    lista_de_orgaos.extend(nova_lista_de_orgaos)\n",
    "    print(f\"{orgao_para_adicionar} adicionado com sucesso na lista de órgões que podem ser doados.\")\n",
    "    print(lista_de_orgaos)\n",
    "```\n"
   ],
   "id": "742c66f31b409a20"
  },
  {
   "metadata": {
    "ExecuteTime": {
     "end_time": "2025-03-16T22:33:24.879617Z",
     "start_time": "2025-03-16T22:33:14.823046Z"
    }
   },
   "cell_type": "code",
   "source": [
    "lista_de_orgaos = [\"Coração\", \"Rins\", \"Fígado\", \"Pâncreas\", \"Pulmões\"]\n",
    "\n",
    "orgao_para_adicionar = input(\"Qual órgão você deseja adicionar na lista de órgãos?\\nCaso tenha mais de um órgão, separe-os por vírgula (Ex. 'Coracao, Pulmao, Pele').\")\n",
    "\n",
    "# Dividindo a entrada do usuário em uma lista\n",
    "nova_lista_de_orgaos = orgao_para_adicionar.split(\", \")\n",
    "\n",
    "# Adicionando novos órgãos que não estão na lista\n",
    "orgaos_a_adicionar = set(nova_lista_de_orgaos) - set(lista_de_orgaos)\n",
    "\n",
    "# Verifica se há órgãos para adicionar\n",
    "if orgaos_a_adicionar:\n",
    "    lista_de_orgaos.extend(orgaos_a_adicionar)\n",
    "    print(f\"Órgãos adicionados com sucesso: {', '.join(orgaos_a_adicionar)}\")\n",
    "else:\n",
    "    print(\"Nenhum órgão foi adicionado. Todos já estavam na lista.\")\n",
    "\n",
    "print(\"Lista de órgãos atualizada:\", lista_de_orgaos)\n"
   ],
   "id": "a6d86e4f6ed3018",
   "outputs": [
    {
     "name": "stdout",
     "output_type": "stream",
     "text": [
      "Nenhum órgão foi adicionado. Todos já estavam na lista.\n",
      "Lista de órgãos atualizada: ['Coração', 'Rins', 'Fígado', 'Pâncreas', 'Pulmões']\n"
     ]
    }
   ],
   "execution_count": 3
  }
 ],
 "metadata": {
  "kernelspec": {
   "display_name": "Python 3",
   "language": "python",
   "name": "python3"
  },
  "language_info": {
   "codemirror_mode": {
    "name": "ipython",
    "version": 2
   },
   "file_extension": ".py",
   "mimetype": "text/x-python",
   "name": "python",
   "nbconvert_exporter": "python",
   "pygments_lexer": "ipython2",
   "version": "2.7.6"
  }
 },
 "nbformat": 4,
 "nbformat_minor": 5
}
