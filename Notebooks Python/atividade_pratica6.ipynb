{
 "cells": [
  {
   "metadata": {},
   "cell_type": "markdown",
   "source": "# 6. Utilizando slicing, crie uma lista com os 3 centros de distribuição de órgãos (Brasília, Fortaleza e São Paulo) a partir da lista das capitais .",
   "id": "bd5e53eae08fb71a"
  },
  {
   "metadata": {
    "ExecuteTime": {
     "end_time": "2025-03-16T22:47:37.672311Z",
     "start_time": "2025-03-16T22:47:37.667794Z"
    }
   },
   "cell_type": "code",
   "source": [
    "# Lista das capitais do Brasil\n",
    "capitais_brasil = [\n",
    "    \"Rio Branco\", \"Maceió\", \"Macapá\", \"Manaus\", \"Salvador\", \"Fortaleza\",\n",
    "    \"Brasília\", \"Vitória\", \"Goiânia\", \"São Luís\", \"Cuiabá\", \"Campo Grande\",\n",
    "    \"Belo Horizonte\", \"Belém\", \"João Pessoa\", \"Curitiba\", \"Recife\",\n",
    "    \"Teresina\", \"Rio de Janeiro\", \"Natal\", \"Porto Alegre\", \"Porto Velho\",\n",
    "    \"Boa Vista\", \"Florianópolis\", \"São Paulo\", \"Aracaju\", \"Palmas\"\n",
    "]\n",
    "\n",
    "centros_de_distribuicao = [capitais_brasil[6], capitais_brasil[5], capitais_brasil[24]]\n",
    "\n",
    "# Exibindo a lista resultante\n",
    "print(centros_de_distribuicao)\n",
    "\n"
   ],
   "id": "7df1f2557cc9786d",
   "outputs": [
    {
     "name": "stdout",
     "output_type": "stream",
     "text": [
      "['Brasília', 'Fortaleza', 'São Paulo']\n"
     ]
    }
   ],
   "execution_count": 7
  }
 ],
 "metadata": {
  "kernelspec": {
   "display_name": "Python 3",
   "language": "python",
   "name": "python3"
  },
  "language_info": {
   "codemirror_mode": {
    "name": "ipython",
    "version": 2
   },
   "file_extension": ".py",
   "mimetype": "text/x-python",
   "name": "python",
   "nbconvert_exporter": "python",
   "pygments_lexer": "ipython2",
   "version": "2.7.6"
  }
 },
 "nbformat": 4,
 "nbformat_minor": 5
}
