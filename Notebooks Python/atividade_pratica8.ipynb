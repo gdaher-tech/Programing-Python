{
 "cells": [
  {
   "cell_type": "code",
   "id": "initial_id",
   "metadata": {
    "collapsed": true,
    "ExecuteTime": {
     "end_time": "2025-03-16T23:21:37.509865Z",
     "start_time": "2025-03-16T23:21:37.505207Z"
    }
   },
   "source": [
    "# Listas de órgãos e seus tempos de isquemia\n",
    "orgaos = [\"Coração\", \"Pulmão\", \"Rim\", \"Fígado\", \"Pâncreas\", \"Intestino\"]\n",
    "tempos_isquemia = [\"04 horas\", \"04 a 06 horas\", \"48 horas\", \"12 horas\", \"12 horas\", \"04 a 06 horas\"]\n",
    "\n",
    "# Imprime a mensagem personalizada para cada órgão\n",
    "for i in range(len(orgaos)):\n",
    "    print(f\"O órgão {orgaos[i]} tem um tempo de isquemia de {tempos_isquemia[i]}.\")\n"
   ],
   "outputs": [
    {
     "name": "stdout",
     "output_type": "stream",
     "text": [
      "O órgão Coração tem um tempo de isquemia de 04 horas.\n",
      "O órgão Pulmão tem um tempo de isquemia de 04 a 06 horas.\n",
      "O órgão Rim tem um tempo de isquemia de 48 horas.\n",
      "O órgão Fígado tem um tempo de isquemia de 12 horas.\n",
      "O órgão Pâncreas tem um tempo de isquemia de 12 horas.\n",
      "O órgão Intestino tem um tempo de isquemia de 04 a 06 horas.\n"
     ]
    }
   ],
   "execution_count": 1
  }
 ],
 "metadata": {
  "kernelspec": {
   "display_name": "Python 3",
   "language": "python",
   "name": "python3"
  },
  "language_info": {
   "codemirror_mode": {
    "name": "ipython",
    "version": 2
   },
   "file_extension": ".py",
   "mimetype": "text/x-python",
   "name": "python",
   "nbconvert_exporter": "python",
   "pygments_lexer": "ipython2",
   "version": "2.7.6"
  }
 },
 "nbformat": 4,
 "nbformat_minor": 5
}
